{
 "cells": [
  {
   "cell_type": "markdown",
   "metadata": {},
   "source": [
    "## Evaluation Plan\n",
    "1. Synthetic Data - Generate data with Noise\n",
    "    i. Figure: 4 Plots - training_data, mc_dropout, concrete_dropout, mc_alpha  \n",
    "    ii. Figure: (x-axis) confidence interval vs (y-axis) percentage of samples in interval   \n",
    "2. Climate Downscaling Dataset (eval on test set)  \n",
    "    i. Table: RMSE, Corr, Prediction intervals  \n",
    "    ii. Figure: True vs Prediction, Distribution of samples for an extreme  \n"
   ]
  },
  {
   "cell_type": "code",
   "execution_count": 3,
   "metadata": {},
   "outputs": [
    {
     "name": "stderr",
     "output_type": "stream",
     "text": [
      "Using TensorFlow backend.\n"
     ]
    }
   ],
   "source": [
    "import sys\n",
    "import numpy as np\n",
    "import tensorflow as tf\n",
    "from models import ConcreteDropout, KerasMCDropout, smooth\n",
    "\n",
    "import matplotlib.pyplot as plt\n",
    "%matplotlib inline\n",
    "from matplotlib.patches import Polygon\n",
    "import seaborn as sns\n",
    "import scipy.stats \n",
    "import pandas as pd\n",
    "from sklearn.preprocessing import StandardScaler \n",
    "\n",
    "import keras.backend as K\n",
    "from keras import initializers, regularizers, optimizers\n",
    "from keras import layers\n",
    "from keras.layers import Input, Dense, Lambda, merge, Conv2D, MaxPooling2D, Flatten, Dropout, Wrapper\n",
    "from keras.models import Model, Sequential, load_model\n",
    "from keras.engine import InputSpec\n",
    "\n",
    "eps = 1e-8\n",
    "\n",
    "sns.set_context(\"paper\", font_scale=1.5)\n",
    "sns.set_style(\"white\")\n",
    "\n",
    "np.random.seed(0)"
   ]
  },
  {
   "cell_type": "markdown",
   "metadata": {},
   "source": [
    "# Set some global parameters"
   ]
  },
  {
   "cell_type": "code",
   "execution_count": 12,
   "metadata": {
    "collapsed": true
   },
   "outputs": [],
   "source": [
    "batch_size = 128\n",
    "lr = 1e-4\n",
    "default_dropout_rate = 0.25\n",
    "alpha = 0.5\n",
    "Kmc = 100\n",
    "Kmc_alpha = 10\n",
    "epochs = 100\n",
    "layer_sizes=[128,128,]"
   ]
  },
  {
   "cell_type": "markdown",
   "metadata": {},
   "source": [
    "# MC-Dropout"
   ]
  },
  {
   "cell_type": "markdown",
   "metadata": {},
   "source": [
    "## Dropout with Alpha-Divergence Loss\n",
    "\n",
    "### General Loss function\n",
    "$\\mathcal{L}(\\Theta) = \\dfrac{1}{\\alpha} \\sum_n \\text{log-sum-exp}\\big[ -\\alpha * l(y_n, f^{\\hat{\\omega}_k}(x_n)) \\big] + L_2(\\Theta)$\n",
    "\n",
    "### Regression Loss\n",
    "$l(y, f^{\\hat{\\omega}_k}(x_n)) = \\dfrac{1}{2}||y - f^{\\hat{\\omega}_k}(x)||_2^2$\n",
    "\n",
    "### Regression Alpha-Divergence Loss\n",
    "$\\mathcal{L}(\\Theta) = -\\dfrac{1}{\\alpha} \\sum_n \\text{log-sum-exp} \\big[ -\\dfrac{\\alpha\\tau}{2}||y - f^{\\hat{\\omega}_k}(x)||_2^2 \\big] + \\dfrac{ND}{2}\\text{log}\\tau + \\sum_i p_i ||M_i||_2^2$"
   ]
  },
  {
   "cell_type": "markdown",
   "metadata": {},
   "source": [
    "# Climate Downscaling Experiments"
   ]
  },
  {
   "cell_type": "markdown",
   "metadata": {},
   "source": [
    "## Read Data"
   ]
  },
  {
   "cell_type": "code",
   "execution_count": 13,
   "metadata": {},
   "outputs": [
    {
     "data": {
      "image/png": "[encoded data removed]",
      "text/plain": [
       "<matplotlib.figure.Figure at 0x7f99449e0f90>"
      ]
     },
     "metadata": {},
     "output_type": "display_data"
    },
    {
     "data": {
      "image/png": "[encoded data removed]",
      "text/plain": [
       "<matplotlib.figure.Figure at 0x7f98d9714910>"
      ]
     },
     "metadata": {},
     "output_type": "display_data"
    }
   ],
   "source": [
    "def read_file(f):\n",
    "    data = pd.read_csv(f, header=None)\n",
    "    data = data.rename(columns={0: 'time', 1: 'label'})\n",
    "    for c in data.columns:\n",
    "        if isinstance(c, int) and ((c % 2) == 1):\n",
    "            del data[c]\n",
    "    X = data.values[:,2:]\n",
    "    X = X.reshape((X.shape[0], 9, 9))[:,:,:,np.newaxis]\n",
    "    plt.imshow(X[0,:,:,0], interpolation='nearest')\n",
    "    plt.show()\n",
    "    y = data.values[:,1,np.newaxis]\n",
    "    return X, y\n",
    "\n",
    "train_file = 'data/train_28.5384_-81.3792'\n",
    "test_file = 'data/test_28.5384_-81.3792'\n",
    "\n",
    "X_train, Y_train = read_file(train_file)\n",
    "X_test, Y_test = read_file(test_file)"
   ]
  },
  {
   "cell_type": "markdown",
   "metadata": {},
   "source": [
    "## Fit Concrete Dropout\n",
    "\n",
    "$P(X=x) = P(X>0) P(X | X>0) + P(X=0)$  \n",
    "$P(X=x) = P(X>0) P(X | X>0) $"
   ]
  },
  {
   "cell_type": "code",
   "execution_count": 14,
   "metadata": {
    "collapsed": true
   },
   "outputs": [],
   "source": [
    "def normal_loss(true, pred):\n",
    "    mean = pred[:, :1]\n",
    "    log_var = pred[:, 1:]         ## log(sigma**2)\n",
    "    precision = K.exp(-log_var)   ## 1/sigma**2\n",
    "    return K.sum(precision * (true - mean)**2. + log_var, -1) \n",
    "\n",
    "def lognormal_loss(true, pred):\n",
    "    mean = pred[:, :1]\n",
    "    log_var = pred[:, 1:]         ## log(sigma**2)\n",
    "    precision = K.exp(-log_var)   ## 1/sigma**2\n",
    "    return K.sum(precision * (tf.log(true) - mean)**2. + log_var, -1)  ## log(x) for the log distribution\n",
    "\n",
    "def gamma_loss(true, pred):\n",
    "    alpha = K.exp(pred[:, :1])\n",
    "    beta = K.exp(pred[:, 1:])\n",
    "    return -(alpha - 1) * K.sum(K.log(true)) + beta * K.sum(true)\n",
    "\n",
    "def gumbel_loss(true, pred):\n",
    "    mu = pred[:,:1]\n",
    "    beta = K.exp(pred[:,1:])\n",
    "    l = K.sum((true - mu) / beta) + batch_size * K.log(beta)\n",
    "    l += K.sum(K.exp(-(true - mu)/beta))\n",
    "    return l\n",
    "\n",
    "def fit_concrete_climate(nb_epoch, X, Y, output_activation=None, verbose=0,\n",
    "                        layer_sizes=[128,128], distribution='normal'):\n",
    "\n",
    "    if K.backend() == 'tensorflow':\n",
    "        K.clear_session()\n",
    "    N = X.shape[0]\n",
    "    wd = lr**2. / N\n",
    "    dd = 2. / N\n",
    "    inp = Input(shape=X.shape[1:])\n",
    "    x = inp\n",
    "    p_s = []\n",
    "    for h in layer_sizes:\n",
    "        l = ConcreteDropout(Conv2D(h, (3,3), padding='valid', activation='relu'), \n",
    "                            weight_regularizer=wd, \n",
    "                            dropout_regularizer=dd)\n",
    "        x = l(x)\n",
    "        p_s.append(l.p)\n",
    "        \n",
    "    #x = K.reshape(x, (-1, 9*9))\n",
    "    x = Flatten()(x)\n",
    "\n",
    "    mean = ConcreteDropout(Dense(1, activation=output_activation), \n",
    "                           weight_regularizer=wd, dropout_regularizer=dd)(x)\n",
    "    log_var = ConcreteDropout(Dense(1), weight_regularizer=wd, dropout_regularizer=dd)(x)\n",
    "    out = merge([mean, log_var], mode='concat')\n",
    "    model = Model(inp, out)\n",
    "    \n",
    "    loss = normal_loss\n",
    "    \n",
    "    adam = optimizers.Adam(lr=lr, beta_1=0.9, beta_2=0.999, \n",
    "                           epsilon=1e-08, decay=0.0)\n",
    "    model.compile(loss=loss, optimizer=adam)\n",
    "\n",
    "    hist = model.fit(X, Y, epochs=nb_epoch, batch_size=batch_size, verbose=verbose)\n",
    "    Y_est = model.predict(X)\n",
    "    hist_loss = hist.history['loss']\n",
    "    return model, hist_loss, p_s  # return ELBO up to const.\n",
    "\n",
    "def normal_moments(samples):\n",
    "    \"\"\"\n",
    "    Prior distribution is normal\n",
    "    E[X] = mu\n",
    "    Var[X] = sigma**2\n",
    "    \"\"\"\n",
    "    mu = samples[:,0].mean(axis=1)\n",
    "    second_moment = np.zeros(samples.shape[0])\n",
    "    for k in range(samples.shape[2]):\n",
    "        sample_var = np.exp(samples[:,1,k])\n",
    "        sample_mean = samples[:,0,k]\n",
    "        second_moment += sample_var + mu**2\n",
    "    \n",
    "    sigma2 = second_moment / samples.shape[2] - mu**2\n",
    "    #Y_mean = np.exp(mu + sigma2 / 2.)\n",
    "    #Y_var = (np.exp(sigma2) - 1) * np.exp(2*mu + sigma2)\n",
    "    return mu, sigma2\n",
    "\n",
    "def gumbel_moments(samples):\n",
    "    '''\n",
    "    E[X] = mu + beta * 0.5772\n",
    "    Var[X] = pi**2 beta**2 / 6\n",
    "    '''\n",
    "    euler_constant = 0.5772156649\n",
    "    alpha_samples = samples[:,0]\n",
    "    beta_samples = np.exp(samples[:,1])\n",
    "        \n",
    "    alpha_mean = alpha_samples.mean(axis=1)\n",
    "    beta_mean = beta_samples.mean(axis=1)\n",
    "    \n",
    "    sample_mean = alpha_samples + beta_samples * euler_constant\n",
    "    sample_var = np.pi**2 * beta_samples**2 / 6.\n",
    "        \n",
    "    EX = sample_mean.mean(axis=1)\n",
    "    EX2 = (sample_var + EX[:,np.newaxis]**2).mean(axis=1)\n",
    "    VX = EX2 - EX**2\n",
    "    \n",
    "    beta_hat = (VX * 6. / (np.pi**2))**0.5\n",
    "    alpha_hat = EX - beta_hat * euler_constant\n",
    "    \n",
    "    return alpha_hat, beta_hat\n",
    "\n",
    "def heteroskedastic_loss(true, pred):\n",
    "    mean = pred[:,:1]\n",
    "    log_var = pred[:,1:]\n",
    "    precision = K.exp(-log_var) + 1e-8\n",
    "    return K.sum(precision * (true - mean)**2. + log_var)\n",
    "\n",
    "def fit_mc(nb_epoch, X, Y, output_activation=None, verbose=0,\n",
    "           alpha_divergence=False, dropout_prob=default_dropout_rate,\n",
    "          layer_sizes=layer_sizes):\n",
    "    if K.backend() == 'tensorflow':\n",
    "        K.clear_session()\n",
    "    N = X.shape[0]\n",
    "    D = np.prod(X.shape[1:])\n",
    "    inp = Input(shape=X.shape[1:])\n",
    "    x = inp\n",
    "    #default_dropout_rate = 0.1\n",
    "    for h in layer_sizes:\n",
    "        x = KerasMCDropout(Conv2D(h, (3,3), padding='valid', activation='relu'), \n",
    "                           dropout_prob=dropout_prob)(x)\n",
    "    \n",
    "    x = Flatten()(x)\n",
    "    mean = KerasMCDropout(Dense(1, activation=output_activation), dropout_prob=dropout_prob)(x)\n",
    "    log_var = KerasMCDropout(Dense(1), dropout_prob=dropout_prob)(x)\n",
    "    out = merge([mean, log_var], mode='concat')\n",
    "        \n",
    "    model = Model(inp, out)\n",
    "    adam = optimizers.Adam(lr=lr, beta_1=0.9, beta_2=0.999, epsilon=1e-8, decay=0.0)\n",
    "\n",
    "    if alpha_divergence:\n",
    "        model.compile(optimizer=adam, loss=alpha_divergence_loss)\n",
    "    else:\n",
    "        model.compile(optimizer=adam, loss=heteroskedastic_loss)\n",
    "\n",
    "    hist = model.fit(X, Y, epochs=nb_epoch, batch_size=batch_size, verbose=verbose)\n",
    "    loss = hist.history['loss']\n",
    "    return model, loss  # return ELBO up to const.\n",
    "\n",
    "\n",
    "# In[32]:\n",
    "\n",
    "\n",
    "def alpha_divergence_loss(true, preds, alpha=alpha, D=1.):\n",
    "    # true: shape (N,K,1)\n",
    "    # preds of shape (N,K,2)\n",
    "    # heteroskedastic case\n",
    "    N = preds.shape[0]\n",
    "    true = true[:,:,0]  # (N,K)\n",
    "    mean_samples = preds[:,:,0]     # (N,K)\n",
    "    log_var_samples = preds[:,:,1]  # (N,K)\n",
    "    precision = K.exp(-log_var_samples) + eps # (N,K)\n",
    "    \n",
    "   # ll = precision/2.*(true - mean_samples)**2. + log_var_samples\n",
    "    ll = precision *(true - mean_samples)**2. + log_var_samples\n",
    "    ll = K.sum(K.exp(-alpha * ll), axis=-1) # (N,)\n",
    "    l = -1/alpha*K.sum(K.log(ll+1e-8))    # float\n",
    "    #l += K.sum(K.log(precision)) * D / 2.\n",
    "    return l\n",
    "    \n",
    "def split_tensor(x):\n",
    "    x = [K.expand_dims(_x, 1) for _x in tf.split(x, Kmc_alpha, 0)]\n",
    "    return layers.concatenate(x, axis=1)\n",
    "    \n",
    "def fit_alpha(nb_epoch, X, Y, output_activation=None, verbose=0,\n",
    "           alpha_divergence=False, dropout_prob=default_dropout_rate,\n",
    "          layer_sizes=layer_sizes, Kmc=Kmc_alpha):\n",
    "    if K.backend() == 'tensorflow':\n",
    "        K.clear_session()\n",
    "    N = X.shape[0]\n",
    "    D = np.prod(X.shape[1:])\n",
    "    inp = Input(shape=X.shape[1:])\n",
    "    x = inp\n",
    "    x = layers.concatenate([x for _ in range(Kmc_alpha)], axis=0)\n",
    "    for h in layer_sizes:\n",
    "        x = KerasMCDropout(Conv2D(h, (3,3), padding='valid', activation='relu'), \n",
    "                           dropout_prob=dropout_prob)(x)\n",
    "    x = Flatten()(x)\n",
    "    mean = KerasMCDropout(Dense(1, activation=output_activation), dropout_prob=dropout_prob)(x)\n",
    "    log_var = KerasMCDropout(Dense(1), dropout_prob=dropout_prob)(x)\n",
    "    out = merge([mean, log_var], mode='concat')\n",
    "\n",
    "    out = layers.Lambda(split_tensor)(out)\n",
    "    model = Model(inp, out)\n",
    "    \n",
    "    adam = optimizers.Adam(lr=lr, beta_1=0.9, beta_2=0.999, epsilon=1e-8, decay=0.0)\n",
    "    \n",
    "    model.compile(optimizer=adam, loss=alpha_divergence_loss)\n",
    "\n",
    "    hist = model.fit(X, Y, epochs=nb_epoch, batch_size=batch_size, verbose=verbose)\n",
    "    loss = hist.history['loss']\n",
    "    return model, loss  # return ELBO up to const."
   ]
  },
  {
   "cell_type": "code",
   "execution_count": 16,
   "metadata": {
    "scrolled": true
   },
   "outputs": [
    {
     "name": "stdout",
     "output_type": "stream",
     "text": [
      "Run 0\n",
      "MC Samples\n"
     ]
    },
    {
     "name": "stderr",
     "output_type": "stream",
     "text": [
      "/usr/local/lib/python2.7/dist-packages/keras/engine/topology.py:1242: UserWarning: The `Merge` layer is deprecated and will be removed after 08/2017. Use instead layers from `keras.layers.merge`, e.g. `add`, `concatenate`, etc.\n",
      "  return cls(**config)\n"
     ]
    },
    {
     "name": "stdout",
     "output_type": "stream",
     "text": [
      "Concrete Samples\n",
      "Alpha Samples\n",
      "{'alpha': [162408.36032657156], 'mc': [-13459.647517986134], 'concrete': [-29996.064789160824]}\n",
      "Run 1\n",
      "MC Samples\n",
      "Concrete Samples\n",
      "Alpha Samples\n",
      "{'alpha': [162408.36032657156, 102942.00580356183], 'mc': [-13459.647517986134, -10936.527642502982], 'concrete': [-29996.064789160824, -29602.172009609534]}\n",
      "Run 2\n",
      "MC Samples\n",
      "Concrete Samples\n",
      "Alpha Samples\n",
      "{'alpha': [162408.36032657156, 102942.00580356183, 562315.41360794217], 'mc': [-13459.647517986134, -10936.527642502982, -9555.8782996836089], 'concrete': [-29996.064789160824, -29602.172009609534, -29642.324759980609]}\n"
     ]
    }
   ],
   "source": [
    "def get_sample_loss(samples, alpha=False):\n",
    "    mu, var = normal_moments(samples)\n",
    "    sampled_stats = np.concatenate([mu[:,np.newaxis], np.log(var[:,np.newaxis])], axis=1)\n",
    "    if not alpha:\n",
    "        return K.eval(heteroskedastic_loss(Y_train_norm, sampled_stats))\n",
    "    else:\n",
    "        return K.eval(alpha_divergence_loss(Y_train_norm, sampled_stats))\n",
    "        \n",
    "distribution = 'normal'\n",
    "\n",
    "train_rainy_days = X_train.mean(axis=3).mean(axis=2).mean(axis=1) > 0.0\n",
    "test_rainy_days = X_test.mean(axis=3).mean(axis=2).mean(axis=1) > 0.0\n",
    "\n",
    "x_mu = np.mean(X_train[train_rainy_days])\n",
    "x_std = np.std(X_train[train_rainy_days])\n",
    "X_train_norm = (X_train - x_mu) / x_std\n",
    "X_test_norm = (X_test - x_mu) / x_std\n",
    "\n",
    "Y_train[train_rainy_days] += eps\n",
    "Y_test[test_rainy_days] += eps\n",
    "\n",
    "scale_y = StandardScaler().fit(Y_train[train_rainy_days])\n",
    "Y_train_norm = scale_y.transform(Y_train)\n",
    "\n",
    "# Train Concrete\n",
    "get_train_samples = lambda model: np.array([model.predict(X_train_norm) for _ in range(Kmc)]).swapaxes(0,1).swapaxes(1,2)\n",
    "get_test_samples = lambda model: np.array([model.predict(X_test_norm) for _ in range(Kmc)]).swapaxes(0,1).swapaxes(1,2)\n",
    "\n",
    "samples = dict(mc=[], concrete=[], alpha=[])\n",
    "losses = dict(mc=[], concrete=[], alpha=[])\n",
    "\n",
    "load = True\n",
    "# At 128,128 concrete dropout learns probabilities at 0.095 and 0.14\n",
    "for run in range(3):\n",
    "    print \"Run %i\" % run\n",
    "    if load:\n",
    "        print(\"MC Samples\")\n",
    "        K.clear_session()\n",
    "        mc_model = load_model('mc-model-%i.h5' % run, custom_objects={'KerasMCDropout': KerasMCDropout, \n",
    "                                                    'heteroskedastic_loss': heteroskedastic_loss})\n",
    "        losses['mc'] += [get_sample_loss(get_train_samples(mc_model))]\n",
    "        samples['mc'] += [get_test_samples(mc_model)]\n",
    "\n",
    "        print(\"Concrete Samples\")\n",
    "        K.clear_session()\n",
    "        concrete_model = load_model('concrete-model-%i.h5' % run, custom_objects={'ConcreteDropout': ConcreteDropout,\n",
    "                                                                    'normal_loss': normal_loss})\n",
    "        samples['concrete'] += [get_test_samples(concrete_model)]\n",
    "        losses['concrete'] += [get_sample_loss(get_train_samples(concrete_model))]\n",
    "        \n",
    "        print(\"Alpha Samples\")\n",
    "        K.clear_session()\n",
    "        alpha_model = load_model('alpha-model-%i.h5' % run, custom_objects={'KerasMCDropout': KerasMCDropout,\n",
    "                                                                  'alpha_divergence_loss': alpha_divergence_loss, \n",
    "                                                                  'tf': tf, 'Kmc_alpha': Kmc_alpha, 'layers': layers})\n",
    "        samples['alpha'] += [np.concatenate([alpha_model.predict(X_test_norm).swapaxes(1,2) for _ in range(Kmc/Kmc_alpha)], axis=2)]\n",
    "        alpha_samples = np.concatenate([alpha_model.predict(X_train_norm).swapaxes(1,2) for _ in range(Kmc/Kmc_alpha)], axis=2)\n",
    "        losses['alpha'] += [get_sample_loss(alpha_samples)]\n",
    "        print losses\n",
    "    else: \n",
    "    # Train Models\n",
    "        print(\"Training concrete\")\n",
    "        concrete_model, loss, concrete_p = fit_concrete_climate(epochs, X_train_norm, Y_train_norm, \n",
    "            output_activation=None, verbose=0, layer_sizes=layer_sizes, \n",
    "            distribution=distribution)\n",
    "        concrete_model.save('concrete-model-%i.h5' % run)\n",
    "        print \"Conrete Probabilities:\", [K.eval(p) for p in concrete_p]\n",
    "        \n",
    "        print(\"Training monte carlo\")\n",
    "        mc_model, loss = fit_mc(epochs, X_train_norm, Y_train_norm, alpha_divergence=False,\n",
    "            output_activation=None, verbose=0, layer_sizes=layer_sizes)\n",
    "        mc_model.save('mc-model-%i.h5' % run)\n",
    "\n",
    "        print (\"Training Alpha-Divergence\")\n",
    "        Y_train_norm_stack = Y_train_norm[:,:,np.newaxis]\n",
    "        Y_train_norm_stack = np.concatenate(Kmc_alpha * [Y_train_norm_stack], axis=1)\n",
    "        alpha_model, loss = fit_alpha(epochs, X_train_norm, Y_train_norm_stack, alpha_divergence=True,\n",
    "            output_activation=None, verbose=0, layer_sizes=layer_sizes)\n",
    "        alpha_model.save('alpha-model-%i.h5' % run)"
   ]
  },
  {
   "cell_type": "markdown",
   "metadata": {},
   "source": [
    "## Select which Model to Use - Best of Three on training set"
   ]
  },
  {
   "cell_type": "code",
   "execution_count": 17,
   "metadata": {},
   "outputs": [
    {
     "name": "stdout",
     "output_type": "stream",
     "text": [
      "['alpha', 'mc', 'concrete']\n",
      "alpha 3\n",
      "mc 3\n",
      "concrete 3\n"
     ]
    }
   ],
   "source": [
    "selected_samples = dict()\n",
    "print losses.keys()\n",
    "for key in losses:\n",
    "    print key, len(samples[key])\n",
    "    selected_samples[key] = samples[key][np.argmin(losses[key])]"
   ]
  },
  {
   "cell_type": "markdown",
   "metadata": {},
   "source": [
    "## How good is our coverage?"
   ]
  },
  {
   "cell_type": "code",
   "execution_count": 18,
   "metadata": {},
   "outputs": [
    {
     "name": "stdout",
     "output_type": "stream",
     "text": [
      "RMSE -- ALpha: 6.94\n",
      "RMSE -- Concrete: 6.21, MC: 6.18\n"
     ]
    },
    {
     "data": {
      "image/png": "[encoded data removed]",
      "text/plain": [
       "<matplotlib.figure.Figure at 0x7f98d94da350>"
      ]
     },
     "metadata": {},
     "output_type": "display_data"
    }
   ],
   "source": [
    "import seaborn as sns\n",
    "\n",
    "## Keep this for later\n",
    "#if distribution == 'gumbel':\n",
    "#    alpha, beta = gumbel_moments(Y_samples[test_rainy_days])\n",
    "#    mu = alpha + beta * 0.5772\n",
    "#    sigma2 = np.pi**2 / 6. * beta**2\n",
    "\n",
    "def get_mean_var(samples):\n",
    "    mu, sigma2 = normal_moments(samples)\n",
    "    mu = mu * scale_y.var_**0.5 + scale_y.mean_\n",
    "    sigma2 *= scale_y.var_\n",
    "    return mu, sigma2\n",
    "\n",
    "concrete_mu, concrete_sigma2 = get_mean_var(selected_samples['concrete'][test_rainy_days])\n",
    "mc_mu, mc_sigma2 = get_mean_var(selected_samples['mc'][test_rainy_days])\n",
    "alpha_mu, alpha_sigma2 = get_mean_var(selected_samples['alpha'][test_rainy_days])\n",
    "\n",
    "get_rmse = lambda x: np.mean((x -  Y_test[test_rainy_days, 0])**2)**0.50\n",
    "\n",
    "concrete_rmse = get_rmse(concrete_mu)\n",
    "alpha_rmse = get_rmse(alpha_mu)\n",
    "mc_rmse = get_rmse(mc_mu)\n",
    "print \"RMSE -- ALpha: %2.2f\" % (alpha_rmse)\n",
    "print \"RMSE -- Concrete: %2.2f, MC: %2.2f\" % (concrete_rmse, mc_rmse)\n",
    "\n",
    "plt.hist(concrete_sigma2**0.5, bins=50)\n",
    "plt.show()"
   ]
  },
  {
   "cell_type": "code",
   "execution_count": 20,
   "metadata": {
    "scrolled": true
   },
   "outputs": [
    {
     "data": {
      "image/png": "[encoded data removed]",
      "text/plain": [
       "<matplotlib.figure.Figure at 0x7f98d91ff4d0>"
      ]
     },
     "metadata": {},
     "output_type": "display_data"
    }
   ],
   "source": [
    "def coverage_plot(samples, y, ax, name=None):\n",
    "    mu, sigma2 = get_mean_var(samples)\n",
    "    sigma = np.sqrt(sigma2)\n",
    "    p_range = np.arange(0.0, 1.0, 0.01)\n",
    "    ratios = []\n",
    "    std = sigma2**0.5\n",
    "\n",
    "    normal_dist = scipy.stats.norm(0,1)\n",
    "    for p_interval in p_range:\n",
    "        p = 0.5 + p_interval/2.\n",
    "        plow = (1. - p)/2\n",
    "        phi = 1-plow\n",
    "        \n",
    "        zscale = normal_dist.ppf(p)\n",
    "        sample_hi = mu + zscale * std\n",
    "        sample_low = mu - zscale * std\n",
    "        \n",
    "        ratios.append(np.mean((sample_hi > y) & (y > sample_low)))\n",
    "            \n",
    "    err = np.mean((p_range - np.array(ratios))**2)**0.5\n",
    "    ax.plot(p_range, ratios, label='%s - Freq RMSE: %2.2f' % (name.title(), err))\n",
    "    \n",
    "fig, axs = plt.subplots(1,2,figsize=(12,5))\n",
    "axs = np.ravel(axs)\n",
    "\n",
    "for key in sorted(selected_samples.keys()):\n",
    "    coverage_plot(selected_samples[key][test_rainy_days], Y_test[test_rainy_days], axs[0], name=key)\n",
    "    #coverage_plot(samples[key], Y_test, axs[0], name=key)\n",
    "\n",
    "axs[0].plot([0,1],[0,1], ls=':')\n",
    "axs[0].legend()\n",
    "axs[0].set_title(\"Uncertainty Calibration\")\n",
    "axs[0].set_ylabel(\"Frequency\")\n",
    "axs[0].set_xlabel(\"Probability\")\n",
    "axs[0].text(-0.1,1.05, 'A)', horizontalalignment='center', verticalalignment='center',\n",
    "                transform=axs[0].transAxes, fontsize=14)\n",
    "axs[1].bar([1,2,3], [alpha_rmse, concrete_rmse, mc_rmse])\n",
    "axs[1].set_ylim([5.8,])\n",
    "axs[1].set_xticks([1,2,3])\n",
    "axs[1].set_xticklabels(sorted([k.title() for k in selected_samples.keys()]))\n",
    "axs[1].set_title(\"Predictive Performance\")\n",
    "axs[1].set_ylabel(\"RMSE (mm/day)\")\n",
    "axs[1].text(-0.1,1.05, 'B)', horizontalalignment='center', verticalalignment='center',\n",
    "                transform=axs[1].transAxes, fontsize=14)\n",
    "plt.savefig(\"uq-results.pdf\")\n",
    "plt.show()\n"
   ]
  },
  {
   "cell_type": "markdown",
   "metadata": {},
   "source": [
    "# END of Figures"
   ]
  },
  {
   "cell_type": "code",
   "execution_count": 9,
   "metadata": {},
   "outputs": [
    {
     "ename": "NameError",
     "evalue": "name 'rainy_test' is not defined",
     "output_type": "error",
     "traceback": [
      "\u001b[0;31m---------------------------------------------------------------------------\u001b[0m",
      "\u001b[0;31mNameError\u001b[0m                                 Traceback (most recent call last)",
      "\u001b[0;32m<ipython-input-9-c610dcbdbeb2>\u001b[0m in \u001b[0;36m<module>\u001b[0;34m()\u001b[0m\n\u001b[0;32m----> 1\u001b[0;31m \u001b[0midx\u001b[0m \u001b[0;34m=\u001b[0m \u001b[0mnp\u001b[0m\u001b[0;34m.\u001b[0m\u001b[0margsort\u001b[0m\u001b[0;34m(\u001b[0m\u001b[0mrainy_test\u001b[0m\u001b[0;34m)\u001b[0m\u001b[0;34m[\u001b[0m\u001b[0;34m-\u001b[0m\u001b[0;36m100\u001b[0m\u001b[0;34m]\u001b[0m\u001b[0;34m\u001b[0m\u001b[0m\n\u001b[0m\u001b[1;32m      2\u001b[0m \u001b[0;34m\u001b[0m\u001b[0m\n\u001b[1;32m      3\u001b[0m \u001b[0;32mprint\u001b[0m \u001b[0mrainy_test\u001b[0m\u001b[0;34m[\u001b[0m\u001b[0midx\u001b[0m\u001b[0;34m]\u001b[0m\u001b[0;34m\u001b[0m\u001b[0m\n\u001b[1;32m      4\u001b[0m \u001b[0;32mprint\u001b[0m \u001b[0mX_test\u001b[0m\u001b[0;34m[\u001b[0m\u001b[0mtest_rainy_days\u001b[0m\u001b[0;34m]\u001b[0m\u001b[0;34m[\u001b[0m\u001b[0midx\u001b[0m\u001b[0;34m]\u001b[0m\u001b[0;34m.\u001b[0m\u001b[0mmean\u001b[0m\u001b[0;34m(\u001b[0m\u001b[0;34m)\u001b[0m\u001b[0;34m\u001b[0m\u001b[0m\n\u001b[1;32m      5\u001b[0m \u001b[0;34m\u001b[0m\u001b[0m\n",
      "\u001b[0;31mNameError\u001b[0m: name 'rainy_test' is not defined"
     ]
    }
   ],
   "source": [
    "idx = np.argsort(rainy_test)[-100]\n",
    "\n",
    "print rainy_test[idx]\n",
    "print X_test[test_rainy_days][idx].mean()\n",
    "\n",
    "m = mu[idx-5:idx+6]\n",
    "s = np.sqrt(sigma2[idx-5:idx+6])\n",
    "\n",
    "\n",
    "y_est = []\n",
    "low, high = [], []\n",
    "for i in range(len(m)):\n",
    "    if distribution == 'normal':\n",
    "        dist = scipy.stats.norm(loc=m[i], scale=np.sqrt(s[i]))\n",
    "    elif distribution == 'gumbel':\n",
    "        dist = scipy.stats.gumbel_r(loc=alpha[idx-5:idx+6][i], \n",
    "                                    scale=beta[idx-5:idx+6][i])\n",
    "    y_est += [dist.mean()]\n",
    "    high += [dist.ppf(0.75)]\n",
    "    low += [dist.ppf(0.25)]\n",
    "\n",
    "label = rainy_test[idx-5:idx+6]\n",
    "\n",
    "plt.figure(figsize=(10,6))\n",
    "plt.plot(y_est)\n",
    "plt.plot(label, ls=':')\n",
    "plt.plot(low, color='green', ls='--')\n",
    "plt.plot(high, color='red', ls='--')\n",
    "plt.show()"
   ]
  },
  {
   "cell_type": "code",
   "execution_count": null,
   "metadata": {
    "collapsed": true
   },
   "outputs": [],
   "source": [
    "cdf = []\n",
    "for i in np.where(rainy_test > 0.)[0]:\n",
    "    if distribution == 'gumbel':\n",
    "        dist = scipy.stats.gumbel_r(loc=alpha[i],scale=beta[i])\n",
    "    elif distribution == 'normal':\n",
    "        dist = scipy.stats.norm(loc=mu[i], scale=sigma2[i]**(0.5))\n",
    "    cdf.append(dist.cdf(Y_test[i])[0])\n",
    "    \n",
    "plt.hist(cdf)\n",
    "plt.xlabel(\"CDF\")"
   ]
  },
  {
   "cell_type": "code",
   "execution_count": null,
   "metadata": {
    "collapsed": true
   },
   "outputs": [],
   "source": []
  }
 ],
 "metadata": {
  "kernelspec": {
   "display_name": "Python 2",
   "language": "python",
   "name": "python2"
  },
  "language_info": {
   "codemirror_mode": {
    "name": "ipython",
    "version": 2
   },
   "file_extension": ".py",
   "mimetype": "text/x-python",
   "name": "python",
   "nbconvert_exporter": "python",
   "pygments_lexer": "ipython2",
   "version": "2.7.6"
  }
 },
 "nbformat": 4,
 "nbformat_minor": 1
}

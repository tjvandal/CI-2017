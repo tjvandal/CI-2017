{
 "cells": [
  {
   "cell_type": "markdown",
   "metadata": {},
   "source": [
    "## Evaluation Plan\n",
    "1. Synthetic Data - Generate data with Noise\n",
    "    i. Figure: 4 Plots - training_data, mc_dropout, concrete_dropout, mc_alpha  \n",
    "    ii. Figure: (x-axis) confidence interval vs (y-axis) percentage of samples in interval   \n",
    "2. Climate Downscaling Dataset (eval on test set)  \n",
    "    i. Table: RMSE, Corr, Prediction intervals  \n",
    "    ii. Figure: True vs Prediction, Distribution of samples for an extreme  \n"
   ]
  },
  {
   "cell_type": "code",
   "execution_count": 1,
   "metadata": {},
   "outputs": [
    {
     "name": "stderr",
     "output_type": "stream",
     "text": [
      "Using TensorFlow backend.\n"
     ]
    }
   ],
   "source": [
    "import sys\n",
    "import numpy as np\n",
    "import tensorflow as tf\n",
    "from models import ConcreteDropout, KerasMCDropout, smooth\n",
    "from keras.models import Sequential\n",
    "import keras.backend as K\n",
    "from keras import initializers, regularizers, optimizers\n",
    "from keras.engine import InputSpec\n",
    "from keras.layers import Dense, Lambda, Wrapper, Dropout\n",
    "import matplotlib.pyplot as plt\n",
    "%matplotlib inline\n",
    "from matplotlib.patches import Polygon\n",
    "import seaborn as sns\n",
    "import scipy.stats \n",
    "\n",
    "sns.set_context(\"paper\", font_scale=1.5)\n",
    "np.random.seed(0)"
   ]
  },
  {
   "cell_type": "markdown",
   "metadata": {},
   "source": [
    "# Set some global parameters"
   ]
  },
  {
   "cell_type": "code",
   "execution_count": 2,
   "metadata": {
    "collapsed": true
   },
   "outputs": [],
   "source": [
    "K_test = 50\n",
    "batch_size = 20\n",
    "n_hidden = [1024,1024,1024]\n",
    "lr = 1e-4\n",
    "hi_percentile = 97.5\n",
    "low_percentile = 2.5\n",
    "default_dropout_rate = 0.1"
   ]
  },
  {
   "cell_type": "markdown",
   "metadata": {},
   "source": [
    "# Synthetic Data Generator"
   ]
  },
  {
   "cell_type": "code",
   "execution_count": 3,
   "metadata": {
    "collapsed": true
   },
   "outputs": [],
   "source": [
    "def gen_signal(X):\n",
    "    return np.sin(2*X)\n",
    "\n",
    "def gen_data(N=None, X=None, sigma=0.1):\n",
    "    if X is None:\n",
    "        X = np.random.randn(N,1)\n",
    "    else:\n",
    "        N = X.shape[0]\n",
    "    noise = sigma*np.random.randn(N, 1)\n",
    "    Y = gen_signal(X) + noise\n",
    "    return X, Y"
   ]
  },
  {
   "cell_type": "code",
   "execution_count": 4,
   "metadata": {},
   "outputs": [
    {
     "data": {
      "image/png": "[encoded data removed]",
      "text/plain": [
       "<matplotlib.figure.Figure at 0x7ff476ca9990>"
      ]
     },
     "metadata": {},
     "output_type": "display_data"
    }
   ],
   "source": [
    "\n",
    "X, Y = gen_data(100)\n",
    "plt.figure(figsize=(10,4))\n",
    "plt.subplot(1,2,1)\n",
    "plt.scatter(X[:, 0], Y[:, 0], edgecolor='b', s=10.)\n",
    "\n",
    "X, Y = gen_data(1000)\n",
    "plt.subplot(1,2,2)\n",
    "plt.scatter(X[:, 0], Y[:, 0], edgecolor='b', s=0.1)\n",
    "plt.show()"
   ]
  },
  {
   "cell_type": "markdown",
   "metadata": {},
   "source": [
    "# Fit Concrete Dropout"
   ]
  },
  {
   "cell_type": "code",
   "execution_count": 5,
   "metadata": {
    "collapsed": true
   },
   "outputs": [],
   "source": [
    "from keras.layers import Input, Dense, Lambda, merge\n",
    "from keras.models import Model\n",
    "from keras import backend as K\n",
    "\n",
    "def fit_concrete(nb_epoch, X, Y, output_activation=None, verbose=0):\n",
    "    if K.backend() == 'tensorflow':\n",
    "        K.clear_session()\n",
    "    N = X.shape[0]\n",
    "    wd = lr**2. / N\n",
    "    dd = 2. / N\n",
    "    inp = Input(shape=(X.shape[1],))\n",
    "    x = inp\n",
    "    for h in n_hidden:\n",
    "        x = ConcreteDropout(Dense(h, activation='relu'), weight_regularizer=wd, \n",
    "                            dropout_regularizer=dd)(x)\n",
    "    mean = ConcreteDropout(Dense(1, activation=output_activation), \n",
    "                           weight_regularizer=wd, dropout_regularizer=dd)(x)\n",
    "    log_var = ConcreteDropout(Dense(1), weight_regularizer=wd, dropout_regularizer=dd)(x)\n",
    "    out = merge([mean, log_var], mode='concat')\n",
    "    model = Model(inp, out)\n",
    "    def heteroscedastic_loss(true, pred):\n",
    "        mean = pred[:, :1]\n",
    "        log_var = pred[:, 1:]\n",
    "        precision = K.exp(-log_var)\n",
    "        return K.sum(precision * (true - mean)**2. + log_var, -1)\n",
    "    \n",
    "    adam = optimizers.Adam(lr=lr, beta_1=0.9, beta_2=0.999, epsilon=1e-08, decay=0.0)\n",
    "    model.compile(optimizer=adam, loss=heteroscedastic_loss)\n",
    "    hist = model.fit(X, Y, epochs=nb_epoch, batch_size=batch_size, verbose=verbose)\n",
    "    loss = hist.history['loss']\n",
    "    return model, loss  # return ELBO up to const."
   ]
  },
  {
   "cell_type": "markdown",
   "metadata": {},
   "source": [
    "# MC-Dropout"
   ]
  },
  {
   "cell_type": "code",
   "execution_count": 6,
   "metadata": {
    "collapsed": true
   },
   "outputs": [],
   "source": [
    "def fit_mc(nb_epoch, X, Y, output_activation=None, verbose=0,\n",
    "           alpha_divergence=True, alpha=0.5, dropout_prob=0.5):\n",
    "    if K.backend() == 'tensorflow':\n",
    "        K.clear_session()\n",
    "    N = X.shape[0]\n",
    "    D = np.prod(X.shape[1:])\n",
    "    inp = Input(shape=X.shape[1:])\n",
    "    x = inp\n",
    "    #default_dropout_rate = 0.1\n",
    "    for h in n_hidden:\n",
    "        x = KerasMCDropout(Dense(h, activation='relu'), dropout_prob=dropout_prob)(x)\n",
    "        \n",
    "    mean = KerasMCDropout(Dense(1, activation=output_activation), dropout_prob=dropout_prob)(x)\n",
    "    log_var = KerasMCDropout(Dense(1), dropout_prob=default_dropout_rate)(x)\n",
    "    out = merge([mean, log_var], mode='concat')\n",
    "    model = Model(inp, out)\n",
    "    \n",
    "    def alpha_divergence_loss(true, pred):\n",
    "        # heteroskedastic case\n",
    "        mean = pred[:,:1]\n",
    "        log_var = pred[:,1:]\n",
    "        precision = K.exp(-log_var)\n",
    "        ll = K.sum(precision * (true - mean)**2. + log_var, axis=0)\n",
    "        l = -1/alpha*K.log(K.sum(K.exp(-alpha*ll)))\n",
    "\n",
    "        # homoskedastic case\n",
    "        #l = -1/alpha*K.log(K.sum(K.exp(-alpha*tau/2.*K.sum((true - mean)**2, axis=0))))\n",
    "        #l += N * D / 2. * K.log(tau)\n",
    "        return l\n",
    "       # return K.sum(precision * (true - pred)**2. + log_var, -1)\n",
    "    \n",
    "    def heteroskedastic_loss(true, pred):\n",
    "        mean = pred[:,:1]\n",
    "        log_var = pred[:,1:]\n",
    "        precision = K.exp(-log_var)\n",
    "        return K.sum(precision * (true - mean)**2. + log_var)\n",
    "        \n",
    "    adam = optimizers.Adam(lr=lr, beta_1=0.9, beta_2=0.999, epsilon=1e-08, decay=0.0)\n",
    "    \n",
    "    if alpha_divergence:\n",
    "        model.compile(optimizer=adam, loss=alpha_divergence_loss)\n",
    "    else:\n",
    "        model.compile(optimizer=adam, loss=heteroskedastic_loss)\n",
    "        \n",
    "    hist = model.fit(X, Y, epochs=nb_epoch, batch_size=batch_size, verbose=verbose)\n",
    "    loss = hist.history['loss']\n",
    "    return model, loss  # return ELBO up to const.\n",
    "\n",
    "# TODO: Complete this function and redo plot\n",
    "def get_moments(samples):\n",
    "    Y_mean = np.mean(samples[:,:,0], axis=0)\n",
    "    second_moment = np.zeros(samples.shape[1])\n",
    "    for k in range(samples.shape[0]):\n",
    "        sample_var = np.exp(samples[k,:,1])\n",
    "        sample_mean = samples[k,:,0]\n",
    "        second_moment += sample_var + sample_mean**2\n",
    "    Y_var = second_moment / samples.shape[0] - Y_mean**2\n",
    "    return Y_mean, Y_var\n",
    "\n"
   ]
  },
  {
   "cell_type": "markdown",
   "metadata": {},
   "source": [
    "## Dropout with Alpha-Divergence Loss\n",
    "\n",
    "### General Loss function\n",
    "$\\mathcal{L}(\\Theta) = \\dfrac{1}{\\alpha} \\sum_n \\text{log-sum-exp}\\big[ -\\alpha * l(y_n, f^{\\hat{\\omega}_k}(x_n)) \\big] + L_2(\\Theta)$\n",
    "\n",
    "### Regression Loss\n",
    "$l(y, f^{\\hat{\\omega}_k}(x_n)) = \\dfrac{1}{2}||y - f^{\\hat{\\omega}_k}(x)||_2^2$\n",
    "\n",
    "### Regression Alpha-Divergence Loss\n",
    "$\\mathcal{L}(\\Theta) = -\\dfrac{1}{\\alpha} \\sum_n \\text{log-sum-exp} \\big[ -\\dfrac{\\alpha\\tau}{2}||y - f^{\\hat{\\omega}_k}(x)||_2^2 \\big] + \\dfrac{ND}{2}\\text{log}\\tau + \\sum_i p_i ||M_i||_2^2$"
   ]
  },
  {
   "cell_type": "markdown",
   "metadata": {},
   "source": [
    "## Experiments with Synthetic Data\n",
    "\n",
    "### Figure 1"
   ]
  },
  {
   "cell_type": "code",
   "execution_count": 7,
   "metadata": {
    "scrolled": true
   },
   "outputs": [
    {
     "name": "stderr",
     "output_type": "stream",
     "text": [
      "/usr/local/lib/python2.7/dist-packages/ipykernel_launcher.py:15: UserWarning: The `merge` function is deprecated and will be removed after 08/2017. Use instead layers from `keras.layers.merge`, e.g. `add`, `concatenate`, etc.\n",
      "  from ipykernel import kernelapp as app\n",
      "/usr/local/lib/python2.7/dist-packages/keras/legacy/layers.py:458: UserWarning: The `Merge` layer is deprecated and will be removed after 08/2017. Use instead layers from `keras.layers.merge`, e.g. `add`, `concatenate`, etc.\n",
      "  name=name)\n"
     ]
    },
    {
     "ename": "KeyboardInterrupt",
     "evalue": "",
     "output_type": "error",
     "traceback": [
      "\u001b[0;31m---------------------------------------------------------------------------\u001b[0m",
      "\u001b[0;31mKeyboardInterrupt\u001b[0m                         Traceback (most recent call last)",
      "\u001b[0;32m<ipython-input-7-4c04579d183b>\u001b[0m in \u001b[0;36m<module>\u001b[0;34m()\u001b[0m\n\u001b[1;32m     22\u001b[0m         \u001b[0mname\u001b[0m \u001b[0;34m=\u001b[0m \u001b[0;34m'MC Dropout'\u001b[0m\u001b[0;34m\u001b[0m\u001b[0m\n\u001b[1;32m     23\u001b[0m         model, _ = fit_mc(epochs, X_train, Y_train, verbose=0, alpha_divergence=False, \n\u001b[0;32m---> 24\u001b[0;31m                         dropout_prob=default_dropout_rate)\n\u001b[0m\u001b[1;32m     25\u001b[0m     \u001b[0;32melif\u001b[0m \u001b[0mj\u001b[0m \u001b[0;34m==\u001b[0m \u001b[0;36m1\u001b[0m\u001b[0;34m:\u001b[0m\u001b[0;34m\u001b[0m\u001b[0m\n\u001b[1;32m     26\u001b[0m         \u001b[0mname\u001b[0m \u001b[0;34m=\u001b[0m \u001b[0;34m'Alpha-Divergence'\u001b[0m\u001b[0;34m\u001b[0m\u001b[0m\n",
      "\u001b[0;32m<ipython-input-6-a9fab637808c>\u001b[0m in \u001b[0;36mfit_mc\u001b[0;34m(nb_epoch, X, Y, output_activation, verbose, alpha_divergence, alpha, dropout_prob)\u001b[0m\n\u001b[1;32m     43\u001b[0m         \u001b[0mmodel\u001b[0m\u001b[0;34m.\u001b[0m\u001b[0mcompile\u001b[0m\u001b[0;34m(\u001b[0m\u001b[0moptimizer\u001b[0m\u001b[0;34m=\u001b[0m\u001b[0madam\u001b[0m\u001b[0;34m,\u001b[0m \u001b[0mloss\u001b[0m\u001b[0;34m=\u001b[0m\u001b[0mheteroskedastic_loss\u001b[0m\u001b[0;34m)\u001b[0m\u001b[0;34m\u001b[0m\u001b[0m\n\u001b[1;32m     44\u001b[0m \u001b[0;34m\u001b[0m\u001b[0m\n\u001b[0;32m---> 45\u001b[0;31m     \u001b[0mhist\u001b[0m \u001b[0;34m=\u001b[0m \u001b[0mmodel\u001b[0m\u001b[0;34m.\u001b[0m\u001b[0mfit\u001b[0m\u001b[0;34m(\u001b[0m\u001b[0mX\u001b[0m\u001b[0;34m,\u001b[0m \u001b[0mY\u001b[0m\u001b[0;34m,\u001b[0m \u001b[0mepochs\u001b[0m\u001b[0;34m=\u001b[0m\u001b[0mnb_epoch\u001b[0m\u001b[0;34m,\u001b[0m \u001b[0mbatch_size\u001b[0m\u001b[0;34m=\u001b[0m\u001b[0mbatch_size\u001b[0m\u001b[0;34m,\u001b[0m \u001b[0mverbose\u001b[0m\u001b[0;34m=\u001b[0m\u001b[0mverbose\u001b[0m\u001b[0;34m)\u001b[0m\u001b[0;34m\u001b[0m\u001b[0m\n\u001b[0m\u001b[1;32m     46\u001b[0m     \u001b[0mloss\u001b[0m \u001b[0;34m=\u001b[0m \u001b[0mhist\u001b[0m\u001b[0;34m.\u001b[0m\u001b[0mhistory\u001b[0m\u001b[0;34m[\u001b[0m\u001b[0;34m'loss'\u001b[0m\u001b[0;34m]\u001b[0m\u001b[0;34m\u001b[0m\u001b[0m\n\u001b[1;32m     47\u001b[0m     \u001b[0;32mreturn\u001b[0m \u001b[0mmodel\u001b[0m\u001b[0;34m,\u001b[0m \u001b[0mloss\u001b[0m  \u001b[0;31m# return ELBO up to const.\u001b[0m\u001b[0;34m\u001b[0m\u001b[0m\n",
      "\u001b[0;32m/usr/local/lib/python2.7/dist-packages/keras/engine/training.pyc\u001b[0m in \u001b[0;36mfit\u001b[0;34m(self, x, y, batch_size, epochs, verbose, callbacks, validation_split, validation_data, shuffle, class_weight, sample_weight, initial_epoch, **kwargs)\u001b[0m\n\u001b[1;32m   1428\u001b[0m                               \u001b[0mval_f\u001b[0m\u001b[0;34m=\u001b[0m\u001b[0mval_f\u001b[0m\u001b[0;34m,\u001b[0m \u001b[0mval_ins\u001b[0m\u001b[0;34m=\u001b[0m\u001b[0mval_ins\u001b[0m\u001b[0;34m,\u001b[0m \u001b[0mshuffle\u001b[0m\u001b[0;34m=\u001b[0m\u001b[0mshuffle\u001b[0m\u001b[0;34m,\u001b[0m\u001b[0;34m\u001b[0m\u001b[0m\n\u001b[1;32m   1429\u001b[0m                               \u001b[0mcallback_metrics\u001b[0m\u001b[0;34m=\u001b[0m\u001b[0mcallback_metrics\u001b[0m\u001b[0;34m,\u001b[0m\u001b[0;34m\u001b[0m\u001b[0m\n\u001b[0;32m-> 1430\u001b[0;31m                               initial_epoch=initial_epoch)\n\u001b[0m\u001b[1;32m   1431\u001b[0m \u001b[0;34m\u001b[0m\u001b[0m\n\u001b[1;32m   1432\u001b[0m     \u001b[0;32mdef\u001b[0m \u001b[0mevaluate\u001b[0m\u001b[0;34m(\u001b[0m\u001b[0mself\u001b[0m\u001b[0;34m,\u001b[0m \u001b[0mx\u001b[0m\u001b[0;34m,\u001b[0m \u001b[0my\u001b[0m\u001b[0;34m,\u001b[0m \u001b[0mbatch_size\u001b[0m\u001b[0;34m=\u001b[0m\u001b[0;36m32\u001b[0m\u001b[0;34m,\u001b[0m \u001b[0mverbose\u001b[0m\u001b[0;34m=\u001b[0m\u001b[0;36m1\u001b[0m\u001b[0;34m,\u001b[0m \u001b[0msample_weight\u001b[0m\u001b[0;34m=\u001b[0m\u001b[0mNone\u001b[0m\u001b[0;34m)\u001b[0m\u001b[0;34m:\u001b[0m\u001b[0;34m\u001b[0m\u001b[0m\n",
      "\u001b[0;32m/usr/local/lib/python2.7/dist-packages/keras/engine/training.pyc\u001b[0m in \u001b[0;36m_fit_loop\u001b[0;34m(self, f, ins, out_labels, batch_size, epochs, verbose, callbacks, val_f, val_ins, shuffle, callback_metrics, initial_epoch)\u001b[0m\n\u001b[1;32m   1077\u001b[0m                 \u001b[0mbatch_logs\u001b[0m\u001b[0;34m[\u001b[0m\u001b[0;34m'size'\u001b[0m\u001b[0;34m]\u001b[0m \u001b[0;34m=\u001b[0m \u001b[0mlen\u001b[0m\u001b[0;34m(\u001b[0m\u001b[0mbatch_ids\u001b[0m\u001b[0;34m)\u001b[0m\u001b[0;34m\u001b[0m\u001b[0m\n\u001b[1;32m   1078\u001b[0m                 \u001b[0mcallbacks\u001b[0m\u001b[0;34m.\u001b[0m\u001b[0mon_batch_begin\u001b[0m\u001b[0;34m(\u001b[0m\u001b[0mbatch_index\u001b[0m\u001b[0;34m,\u001b[0m \u001b[0mbatch_logs\u001b[0m\u001b[0;34m)\u001b[0m\u001b[0;34m\u001b[0m\u001b[0m\n\u001b[0;32m-> 1079\u001b[0;31m                 \u001b[0mouts\u001b[0m \u001b[0;34m=\u001b[0m \u001b[0mf\u001b[0m\u001b[0;34m(\u001b[0m\u001b[0mins_batch\u001b[0m\u001b[0;34m)\u001b[0m\u001b[0;34m\u001b[0m\u001b[0m\n\u001b[0m\u001b[1;32m   1080\u001b[0m                 \u001b[0;32mif\u001b[0m \u001b[0;32mnot\u001b[0m \u001b[0misinstance\u001b[0m\u001b[0;34m(\u001b[0m\u001b[0mouts\u001b[0m\u001b[0;34m,\u001b[0m \u001b[0mlist\u001b[0m\u001b[0;34m)\u001b[0m\u001b[0;34m:\u001b[0m\u001b[0;34m\u001b[0m\u001b[0m\n\u001b[1;32m   1081\u001b[0m                     \u001b[0mouts\u001b[0m \u001b[0;34m=\u001b[0m \u001b[0;34m[\u001b[0m\u001b[0mouts\u001b[0m\u001b[0;34m]\u001b[0m\u001b[0;34m\u001b[0m\u001b[0m\n",
      "\u001b[0;32m/usr/local/lib/python2.7/dist-packages/keras/backend/tensorflow_backend.pyc\u001b[0m in \u001b[0;36m__call__\u001b[0;34m(self, inputs)\u001b[0m\n\u001b[1;32m   2266\u001b[0m         updated = session.run(self.outputs + [self.updates_op],\n\u001b[1;32m   2267\u001b[0m                               \u001b[0mfeed_dict\u001b[0m\u001b[0;34m=\u001b[0m\u001b[0mfeed_dict\u001b[0m\u001b[0;34m,\u001b[0m\u001b[0;34m\u001b[0m\u001b[0m\n\u001b[0;32m-> 2268\u001b[0;31m                               **self.session_kwargs)\n\u001b[0m\u001b[1;32m   2269\u001b[0m         \u001b[0;32mreturn\u001b[0m \u001b[0mupdated\u001b[0m\u001b[0;34m[\u001b[0m\u001b[0;34m:\u001b[0m\u001b[0mlen\u001b[0m\u001b[0;34m(\u001b[0m\u001b[0mself\u001b[0m\u001b[0;34m.\u001b[0m\u001b[0moutputs\u001b[0m\u001b[0;34m)\u001b[0m\u001b[0;34m]\u001b[0m\u001b[0;34m\u001b[0m\u001b[0m\n\u001b[1;32m   2270\u001b[0m \u001b[0;34m\u001b[0m\u001b[0m\n",
      "\u001b[0;32m/usr/local/lib/python2.7/dist-packages/tensorflow/python/client/session.pyc\u001b[0m in \u001b[0;36mrun\u001b[0;34m(self, fetches, feed_dict, options, run_metadata)\u001b[0m\n\u001b[1;32m    787\u001b[0m     \u001b[0;32mtry\u001b[0m\u001b[0;34m:\u001b[0m\u001b[0;34m\u001b[0m\u001b[0m\n\u001b[1;32m    788\u001b[0m       result = self._run(None, fetches, feed_dict, options_ptr,\n\u001b[0;32m--> 789\u001b[0;31m                          run_metadata_ptr)\n\u001b[0m\u001b[1;32m    790\u001b[0m       \u001b[0;32mif\u001b[0m \u001b[0mrun_metadata\u001b[0m\u001b[0;34m:\u001b[0m\u001b[0;34m\u001b[0m\u001b[0m\n\u001b[1;32m    791\u001b[0m         \u001b[0mproto_data\u001b[0m \u001b[0;34m=\u001b[0m \u001b[0mtf_session\u001b[0m\u001b[0;34m.\u001b[0m\u001b[0mTF_GetBuffer\u001b[0m\u001b[0;34m(\u001b[0m\u001b[0mrun_metadata_ptr\u001b[0m\u001b[0;34m)\u001b[0m\u001b[0;34m\u001b[0m\u001b[0m\n",
      "\u001b[0;32m/usr/local/lib/python2.7/dist-packages/tensorflow/python/client/session.pyc\u001b[0m in \u001b[0;36m_run\u001b[0;34m(self, handle, fetches, feed_dict, options, run_metadata)\u001b[0m\n\u001b[1;32m    995\u001b[0m     \u001b[0;32mif\u001b[0m \u001b[0mfinal_fetches\u001b[0m \u001b[0;32mor\u001b[0m \u001b[0mfinal_targets\u001b[0m\u001b[0;34m:\u001b[0m\u001b[0;34m\u001b[0m\u001b[0m\n\u001b[1;32m    996\u001b[0m       results = self._do_run(handle, final_targets, final_fetches,\n\u001b[0;32m--> 997\u001b[0;31m                              feed_dict_string, options, run_metadata)\n\u001b[0m\u001b[1;32m    998\u001b[0m     \u001b[0;32melse\u001b[0m\u001b[0;34m:\u001b[0m\u001b[0;34m\u001b[0m\u001b[0m\n\u001b[1;32m    999\u001b[0m       \u001b[0mresults\u001b[0m \u001b[0;34m=\u001b[0m \u001b[0;34m[\u001b[0m\u001b[0;34m]\u001b[0m\u001b[0;34m\u001b[0m\u001b[0m\n",
      "\u001b[0;32m/usr/local/lib/python2.7/dist-packages/tensorflow/python/client/session.pyc\u001b[0m in \u001b[0;36m_do_run\u001b[0;34m(self, handle, target_list, fetch_list, feed_dict, options, run_metadata)\u001b[0m\n\u001b[1;32m   1130\u001b[0m     \u001b[0;32mif\u001b[0m \u001b[0mhandle\u001b[0m \u001b[0;32mis\u001b[0m \u001b[0mNone\u001b[0m\u001b[0;34m:\u001b[0m\u001b[0;34m\u001b[0m\u001b[0m\n\u001b[1;32m   1131\u001b[0m       return self._do_call(_run_fn, self._session, feed_dict, fetch_list,\n\u001b[0;32m-> 1132\u001b[0;31m                            target_list, options, run_metadata)\n\u001b[0m\u001b[1;32m   1133\u001b[0m     \u001b[0;32melse\u001b[0m\u001b[0;34m:\u001b[0m\u001b[0;34m\u001b[0m\u001b[0m\n\u001b[1;32m   1134\u001b[0m       return self._do_call(_prun_fn, self._session, handle, feed_dict,\n",
      "\u001b[0;32m/usr/local/lib/python2.7/dist-packages/tensorflow/python/client/session.pyc\u001b[0m in \u001b[0;36m_do_call\u001b[0;34m(self, fn, *args)\u001b[0m\n\u001b[1;32m   1137\u001b[0m   \u001b[0;32mdef\u001b[0m \u001b[0m_do_call\u001b[0m\u001b[0;34m(\u001b[0m\u001b[0mself\u001b[0m\u001b[0;34m,\u001b[0m \u001b[0mfn\u001b[0m\u001b[0;34m,\u001b[0m \u001b[0;34m*\u001b[0m\u001b[0margs\u001b[0m\u001b[0;34m)\u001b[0m\u001b[0;34m:\u001b[0m\u001b[0;34m\u001b[0m\u001b[0m\n\u001b[1;32m   1138\u001b[0m     \u001b[0;32mtry\u001b[0m\u001b[0;34m:\u001b[0m\u001b[0;34m\u001b[0m\u001b[0m\n\u001b[0;32m-> 1139\u001b[0;31m       \u001b[0;32mreturn\u001b[0m \u001b[0mfn\u001b[0m\u001b[0;34m(\u001b[0m\u001b[0;34m*\u001b[0m\u001b[0margs\u001b[0m\u001b[0;34m)\u001b[0m\u001b[0;34m\u001b[0m\u001b[0m\n\u001b[0m\u001b[1;32m   1140\u001b[0m     \u001b[0;32mexcept\u001b[0m \u001b[0merrors\u001b[0m\u001b[0;34m.\u001b[0m\u001b[0mOpError\u001b[0m \u001b[0;32mas\u001b[0m \u001b[0me\u001b[0m\u001b[0;34m:\u001b[0m\u001b[0;34m\u001b[0m\u001b[0m\n\u001b[1;32m   1141\u001b[0m       \u001b[0mmessage\u001b[0m \u001b[0;34m=\u001b[0m \u001b[0mcompat\u001b[0m\u001b[0;34m.\u001b[0m\u001b[0mas_text\u001b[0m\u001b[0;34m(\u001b[0m\u001b[0me\u001b[0m\u001b[0;34m.\u001b[0m\u001b[0mmessage\u001b[0m\u001b[0;34m)\u001b[0m\u001b[0;34m\u001b[0m\u001b[0m\n",
      "\u001b[0;32m/usr/local/lib/python2.7/dist-packages/tensorflow/python/client/session.pyc\u001b[0m in \u001b[0;36m_run_fn\u001b[0;34m(session, feed_dict, fetch_list, target_list, options, run_metadata)\u001b[0m\n\u001b[1;32m   1119\u001b[0m         return tf_session.TF_Run(session, options,\n\u001b[1;32m   1120\u001b[0m                                  \u001b[0mfeed_dict\u001b[0m\u001b[0;34m,\u001b[0m \u001b[0mfetch_list\u001b[0m\u001b[0;34m,\u001b[0m \u001b[0mtarget_list\u001b[0m\u001b[0;34m,\u001b[0m\u001b[0;34m\u001b[0m\u001b[0m\n\u001b[0;32m-> 1121\u001b[0;31m                                  status, run_metadata)\n\u001b[0m\u001b[1;32m   1122\u001b[0m \u001b[0;34m\u001b[0m\u001b[0m\n\u001b[1;32m   1123\u001b[0m     \u001b[0;32mdef\u001b[0m \u001b[0m_prun_fn\u001b[0m\u001b[0;34m(\u001b[0m\u001b[0msession\u001b[0m\u001b[0;34m,\u001b[0m \u001b[0mhandle\u001b[0m\u001b[0;34m,\u001b[0m \u001b[0mfeed_dict\u001b[0m\u001b[0;34m,\u001b[0m \u001b[0mfetch_list\u001b[0m\u001b[0;34m)\u001b[0m\u001b[0;34m:\u001b[0m\u001b[0;34m\u001b[0m\u001b[0m\n",
      "\u001b[0;31mKeyboardInterrupt\u001b[0m: "
     ]
    },
    {
     "data": {
      "image/png": "[encoded data removed]",
      "text/plain": [
       "<matplotlib.figure.Figure at 0x7f5ee0ca2090>"
      ]
     },
     "metadata": {},
     "output_type": "display_data"
    }
   ],
   "source": [
    "sns.set_style(\"white\")\n",
    "N = 1000\n",
    "Kmc = 50\n",
    "sigma = 0.1\n",
    "epochs = 100\n",
    "X_train, Y_train = gen_data(N=N, sigma=sigma)\n",
    "\n",
    "X_test = np.arange(-2.5, 2.5, 0.01)\n",
    "Y_signal = gen_signal(X_test[:,np.newaxis])\n",
    "_, Y_test = gen_data(X=X_test[:,np.newaxis], sigma=sigma)\n",
    "\n",
    "fig, axs = plt.subplots(1,4, figsize=(14,3), sharex=True, sharey=True)\n",
    "axs = np.ravel(axs)\n",
    "axs[0].scatter(X_train, Y_train, s=2)\n",
    "axs[0].set_title(\"Training Data\")\n",
    "\n",
    "\n",
    "test_results=dict()\n",
    "plot_labels = ['A)', 'B)', 'C)', 'D)']\n",
    "for j in range(3):\n",
    "    if j == 0:\n",
    "        name = 'MC Dropout'\n",
    "        model, _ = fit_mc(epochs, X_train, Y_train, verbose=0, alpha_divergence=False, \n",
    "                        dropout_prob=default_dropout_rate)\n",
    "    elif j == 1:\n",
    "        name = 'Alpha-Divergence'\n",
    "        model, _ = fit_mc(epochs, X_train, Y_train, verbose=0, alpha_divergence=True, \n",
    "                        dropout_prob=default_dropout_rate)\n",
    "    elif j == 2:\n",
    "        name = 'Concrete Dropout'\n",
    "        model, _ = fit_concrete(epochs, X_train, Y_train, verbose=0)\n",
    "    \n",
    "    print name\n",
    "    \n",
    "    Y_samples = np.array([model.predict(X_test[:,np.newaxis]) for _ in range(Kmc)])\n",
    "    plt.hist(Y_samples[:,:,1].flatten())\n",
    "    plt.title(name)\n",
    "    plt.show()\n",
    "    \n",
    "    Y_mean, Y_var = get_moments(Y_samples)\n",
    "    Y_std = np.sqrt(Y_var)\n",
    "    print np.mean(Y_std), np.std(Y_std)\n",
    "    test_results[name] = dict(mu=Y_mean, std=Y_std, samples=Y_samples)\n",
    "    \n",
    "    window_len = 41\n",
    "    pad = window_len - 1\n",
    "    Y_mean_smooth = smooth(Y_mean, window_len)[pad:-pad]\n",
    "    for i, z in enumerate([3., 2., 1.]):        \n",
    "        yhi = smooth(Y_mean + z*Y_std, window_len)[pad:-pad]\n",
    "        ylow = smooth(Y_mean - z*Y_std, window_len)[pad:-pad]\n",
    "        hi_percentile = scipy.stats.norm.cdf(z)*100.\n",
    "        low_percentile = 100 - hi_percentile\n",
    "        #yhi  = smooth(np.percentile(Y_samples[:,:,0], hi_percentile,  axis=0), window_len)[pad:-pad]\n",
    "        #ylow = smooth(np.percentile(Y_samples[:,:,0], low_percentile, axis=0), window_len)[pad:-pad]\n",
    "        \n",
    "        x = np.concatenate([X_test, np.flipud(X_test)])[:,np.newaxis]\n",
    "        y = np.concatenate([ylow, np.flipud(yhi)])[:,np.newaxis]\n",
    "        xy = np.concatenate([x,y], axis=1)\n",
    "\n",
    "        poly = Polygon(xy, closed=False, alpha=(i+1)*0.1, color='green')\n",
    "        axs[j+1].add_patch(poly) \n",
    "    \n",
    "    axs[j+1].scatter(X_train, Y_train, s=1.)\n",
    "    axs[j+1].plot(X_test, Y_mean_smooth, lw=1.)\n",
    "    axs[j+1].set_title(name)\n",
    "\n",
    "for i in range(4):\n",
    "    axs[i].text(-0.1,1.05, plot_labels[i], horizontalalignment='center', verticalalignment='center',\n",
    "            transform=axs[i].transAxes, fontsize=14)\n",
    "plt.savefig(\"figure1.pdf\")\n",
    "plt.show()"
   ]
  },
  {
   "cell_type": "markdown",
   "metadata": {},
   "source": [
    "### Figure 2"
   ]
  },
  {
   "cell_type": "code",
   "execution_count": 8,
   "metadata": {},
   "outputs": [
    {
     "name": "stdout",
     "output_type": "stream",
     "text": [
      "Alpha-Divergence\n",
      "MC Dropout\n",
      "Concrete Dropout\n"
     ]
    },
    {
     "data": {
      "image/png": "[encoded data removed]",
      "text/plain": [
       "<matplotlib.figure.Figure at 0x7f86744dce50>"
      ]
     },
     "metadata": {},
     "output_type": "display_data"
    }
   ],
   "source": [
    "p_range = np.arange(0.0, 1.0, 0.01)\n",
    "fig, axs = plt.subplots(1,2,figsize=(9,4))\n",
    "axs = np.ravel(axs)\n",
    "\n",
    "for i, (key, val) in enumerate(test_results.iteritems()):\n",
    "    print key\n",
    "    ratios = []\n",
    "    std = val['std']\n",
    "    mean = val['mu']\n",
    "    for p_interval in p_range:\n",
    "        p = 0.5 + p_interval/2.\n",
    "        \n",
    "        plow = (1. - p)/2\n",
    "        phi = 1-plow\n",
    "        samples = val['samples']\n",
    "        low  = np.percentile(samples[:,:,0], plow*100,  axis=0)\n",
    "        high = np.percentile(samples[:,:,0], phi*100, axis=0)\n",
    "        \n",
    "        z = scipy.stats.norm.ppf(p)\n",
    "        low = mean - z*std\n",
    "        high = mean + z*std\n",
    "        obs_in_range = (Y_test[:,0] > low) * (Y_test[:,0] < high)\n",
    "        \n",
    "        \n",
    "        #plt.hist(obs_in_range.mean(0))\n",
    "        ratios.append(np.mean(obs_in_range))\n",
    "    rmse = np.sqrt(np.mean((Y_signal[:,0] - mean)**2))\n",
    "    axs[1].bar(i,rmse)\n",
    "    axs[0].plot(p_range, ratios, label=key, lw=2)\n",
    "\n",
    "axs[0].plot([0,1], [0,1], ls='dashed', label='Ideal')\n",
    "axs[0].set_xlim([0.0,1])\n",
    "axs[0].set_ylim([0,1])\n",
    "axs[0].set_xlabel(\"Interval Width\")\n",
    "axs[0].set_ylabel(\"P(Label in Interval)\")\n",
    "axs[0].set_title(\"Predictive Uncertainty\")\n",
    "axs[0].legend(fontsize=10)\n",
    "\n",
    "axs[1].set_title(\"Signal RMSE\")\n",
    "#axs[1].set_xlabel(\"Model\")\n",
    "axs[1].set_ylabel(\"RMSE\")\n",
    "#axs[1].set_xticklabels(test_results.keys(), rotation=30)\n",
    "plt.tight_layout()\n",
    "plt.xticks(range(3), test_results.keys(), axes=axs[1], rotation=20)\n",
    "\n",
    "plt.savefig(\"figure2.pdf\", pad_inches=5.0)\n",
    "plt.show()\n"
   ]
  },
  {
   "cell_type": "markdown",
   "metadata": {},
   "source": [
    "# Climate Downscaling Experiments - This is not completed"
   ]
  },
  {
   "cell_type": "markdown",
   "metadata": {},
   "source": [
    "## Read Data"
   ]
  },
  {
   "cell_type": "code",
   "execution_count": 7,
   "metadata": {},
   "outputs": [
    {
     "data": {
      "image/png": "[encoded data removed]",
      "text/plain": [
       "<matplotlib.figure.Figure at 0x7ff475a63ad0>"
      ]
     },
     "metadata": {},
     "output_type": "display_data"
    },
    {
     "data": {
      "image/png": "[encoded data removed]",
      "text/plain": [
       "<matplotlib.figure.Figure at 0x7ff473934290>"
      ]
     },
     "metadata": {},
     "output_type": "display_data"
    },
    {
     "name": "stdout",
     "output_type": "stream",
     "text": [
      "(8766, 9, 9, 1) (8766, 1)\n"
     ]
    }
   ],
   "source": [
    "import pandas as pd\n",
    "\n",
    "Kmc = 30\n",
    "\n",
    "def read_file(f):\n",
    "    data = pd.read_csv(f, header=None)\n",
    "    data = data.rename(columns={0: 'time', 1: 'label'})\n",
    "    for c in data.columns:\n",
    "        if isinstance(c, int) and ((c % 2) == 1):\n",
    "            del data[c]\n",
    "    X = data.values[:,2:]\n",
    "    X = X.reshape((X.shape[0], 9, 9))[:,:,:,np.newaxis]\n",
    "    plt.imshow(X[0,:,:,0], interpolation='nearest')\n",
    "    plt.show()\n",
    "    y = data.values[:,1,np.newaxis]\n",
    "    return X, y\n",
    "\n",
    "train_file = 'data/train_28.5384_-81.3792'\n",
    "test_file = 'data/test_28.5384_-81.3792'\n",
    "\n",
    "X_train, Y_train = read_file(train_file)\n",
    "X_test, Y_test = read_file(test_file)\n",
    "print X_train.shape, Y_train.shape"
   ]
  },
  {
   "cell_type": "markdown",
   "metadata": {},
   "source": [
    "## Fit Concrete Dropout\n",
    "\n",
    "$P(X=x) = P(X>0) P(X | X>0) + P(X=0)$  \n",
    "$P(X=x) = P(X>0) P(X | X>0) $"
   ]
  },
  {
   "cell_type": "code",
   "execution_count": 8,
   "metadata": {
    "collapsed": true
   },
   "outputs": [],
   "source": [
    "from keras.layers import Conv2D, MaxPooling2D, Flatten\n",
    "from sklearn.preprocessing import StandardScaler \n",
    "\n",
    "def fit_mc(nb_epoch, X, Y, output_activation=None, verbose=0,\n",
    "           alpha_divergence=True, alpha=0.5, dropout_prob=0.5):\n",
    "    if K.backend() == 'tensorflow':\n",
    "        K.clear_session()\n",
    "    N = X.shape[0]\n",
    "    D = np.prod(X.shape[1:])\n",
    "    inp = Input(shape=X.shape[1:])\n",
    "    x = inp\n",
    "    #default_dropout_rate = 0.1\n",
    "    for h in n_hidden:\n",
    "        x = KerasMCDropout(Dense(h, activation='relu'), dropout_prob=dropout_prob)(x)\n",
    "        \n",
    "    mean = KerasMCDropout(Dense(1, activation=output_activation), dropout_prob=dropout_prob)(x)\n",
    "    log_var = KerasMCDropout(Dense(1), dropout_prob=default_dropout_rate)(x)\n",
    "    out = merge([mean, log_var], mode='concat')\n",
    "    model = Model(inp, out)\n",
    "    \n",
    "    def alpha_divergence_loss(true, pred):\n",
    "        # heteroskedastic case\n",
    "        mean = pred[:,:1]\n",
    "        log_var = pred[:,1:]\n",
    "        precision = K.exp(-log_var)\n",
    "        ll = K.sum(precision * (true - mean)**2. + log_var, axis=0)\n",
    "        l = -1/alpha*K.log(K.sum(K.exp(-alpha*ll)))\n",
    "\n",
    "        # homoskedastic case\n",
    "        #l = -1/alpha*K.log(K.sum(K.exp(-alpha*tau/2.*K.sum((true - mean)**2, axis=0))))\n",
    "        #l += N * D / 2. * K.log(tau)\n",
    "        return l\n",
    "       # return K.sum(precision * (true - pred)**2. + log_var, -1)\n",
    "    \n",
    "    def heteroskedastic_loss(true, pred):\n",
    "        mean = pred[:,:1]\n",
    "        log_var = pred[:,1:]\n",
    "        precision = K.exp(-log_var)\n",
    "        return K.sum(precision * (true - mean)**2. + log_var)\n",
    "        \n",
    "    adam = optimizers.Adam(lr=lr, beta_1=0.9, beta_2=0.999, epsilon=1e-08, decay=0.0)\n",
    "    \n",
    "    if alpha_divergence:\n",
    "        model.compile(optimizer=adam, loss=alpha_divergence_loss)\n",
    "    else:\n",
    "        model.compile(optimizer=adam, loss=heteroskedastic_loss)\n",
    "        \n",
    "    hist = model.fit(X, Y, epochs=nb_epoch, batch_size=batch_size, verbose=verbose)\n",
    "    loss = hist.history['loss']\n",
    "    return model, loss  # return ELBO up to const.\n",
    "\n",
    "\n",
    "def fit_concrete_climate(nb_epoch, X, Y, output_activation=None, verbose=0,\n",
    "                        layer_sizes=[128,128], distribution='normal', \n",
    "                        learning_rate=1e-4):\n",
    "\n",
    "    if K.backend() == 'tensorflow':\n",
    "        K.clear_session()\n",
    "    N = X.shape[0]\n",
    "    wd = lr**2. / N\n",
    "    dd = 2. / N\n",
    "    inp = Input(shape=X.shape[1:])\n",
    "    x = inp\n",
    "    for h in layer_sizes:\n",
    "        x = ConcreteDropout(Conv2D(h, (3,3), padding='valid', activation='relu'), \n",
    "                            weight_regularizer=wd, \n",
    "                            dropout_regularizer=dd)(x)\n",
    "    #x = K.reshape(x, (-1, 9*9))\n",
    "    x = Flatten()(x)\n",
    "\n",
    "    mean = ConcreteDropout(Dense(1, activation=output_activation), \n",
    "                           weight_regularizer=wd, dropout_regularizer=dd)(x)\n",
    "    log_var = ConcreteDropout(Dense(1), weight_regularizer=wd, dropout_regularizer=dd)(x)\n",
    "    out = merge([mean, log_var], mode='concat')\n",
    "    model = Model(inp, out)\n",
    "    \n",
    "    def normal_loss(true, pred):\n",
    "        mean = pred[:, :1]\n",
    "        log_var = pred[:, 1:]         ## log(sigma**2)\n",
    "        precision = K.exp(-log_var)   ## 1/sigma**2\n",
    "        return K.sum(precision * (true - mean)**2. + log_var, -1) \n",
    "\n",
    "    def lognormal_loss(true, pred):\n",
    "        mean = pred[:, :1]\n",
    "        log_var = pred[:, 1:]         ## log(sigma**2)\n",
    "        precision = K.exp(-log_var)   ## 1/sigma**2\n",
    "        return K.sum(precision * (tf.log(true) - mean)**2. + log_var, -1)  ## log(x) for the log distribution\n",
    "    \n",
    "    def gamma_loss(true, pred):\n",
    "        alpha = K.exp(pred[:, :1])\n",
    "        beta = K.exp(pred[:, 1:])\n",
    "        return -(alpha - 1) * K.sum(K.log(true)) + beta * K.sum(true)\n",
    "    \n",
    "    def gumbel_loss(true, pred):\n",
    "        mu = pred[:,:1]\n",
    "        beta = K.exp(pred[:,1:])\n",
    "        l = K.sum((true - mu) / beta) + batch_size * K.log(beta)\n",
    "        l += K.sum(K.exp(-(true - mu)/beta))\n",
    "        return l\n",
    "    \n",
    "    if distribution == 'normal':\n",
    "        loss = normal_loss\n",
    "    elif distribution == 'lognormal':\n",
    "        loss = lognormal_loss\n",
    "    elif distribution == 'gumbel':\n",
    "        loss = gumbel_loss\n",
    "    else:\n",
    "        raise ValueError(\"I don't understand the distribution you requested.\")\n",
    "        \n",
    "    adam = optimizers.Adam(lr=learning_rate, beta_1=0.9, beta_2=0.999, \n",
    "                           epsilon=1e-08, decay=0.0)\n",
    "    model.compile(loss=loss, optimizer=adam)\n",
    "\n",
    "    hist = model.fit(X, Y, epochs=nb_epoch, batch_size=batch_size, verbose=verbose)\n",
    "    Y_est = model.predict(X)\n",
    "    hist_loss = hist.history['loss']\n",
    "    return model, hist_loss  # return ELBO up to const.\n",
    "\n",
    "def normal_moments(samples):\n",
    "    \"\"\"\n",
    "    Prior distribution is log-normal\n",
    "    E[X] = exp(mu + sigma**2/2)\n",
    "    Var[X] = (exp(sigma**2) - 1) exp(2*mu + sigma**2)\n",
    "    \"\"\"\n",
    "    mu = samples[:,0].mean(axis=1)\n",
    "    second_moment = np.zeros(samples.shape[0])\n",
    "    for k in range(samples.shape[2]):\n",
    "        sample_var = np.exp(samples[:,1,k])\n",
    "        sample_mean = samples[:,0,k]\n",
    "        second_moment += sample_var + mu**2\n",
    "    \n",
    "    sigma2 = second_moment / samples.shape[2] - mu**2\n",
    "    #Y_mean = np.exp(mu + sigma2 / 2.)\n",
    "    #Y_var = (np.exp(sigma2) - 1) * np.exp(2*mu + sigma2)\n",
    "    return mu, sigma2\n",
    "\n",
    "def gumbel_moments(samples):\n",
    "    '''\n",
    "    E[X] = mu + beta * 0.5772\n",
    "    Var[X] = pi**2 beta**2 / 6\n",
    "    '''\n",
    "    alpha_mean = samples[:,0].mean(axis=1)\n",
    "    beta_mean = np.exp(samples[:,1]).mean(axis=1)\n",
    "    return alpha_mean, beta_mean\n"
   ]
  },
  {
   "cell_type": "code",
   "execution_count": null,
   "metadata": {
    "scrolled": true
   },
   "outputs": [
    {
     "name": "stderr",
     "output_type": "stream",
     "text": [
      "/usr/local/lib/python2.7/dist-packages/ipykernel_launcher.py:25: UserWarning: The `merge` function is deprecated and will be removed after 08/2017. Use instead layers from `keras.layers.merge`, e.g. `add`, `concatenate`, etc.\n"
     ]
    },
    {
     "name": "stdout",
     "output_type": "stream",
     "text": [
      "Epoch 1/25\n",
      "8566/8566 [==============================] - 4s - loss: 26.6430     \n",
      "Epoch 2/25\n",
      "8566/8566 [==============================] - 3s - loss: 18.9031     \n",
      "Epoch 3/25\n",
      "8566/8566 [==============================] - 3s - loss: 17.0914     \n",
      "Epoch 4/25\n",
      "8566/8566 [==============================] - 3s - loss: 16.4739     \n",
      "Epoch 5/25\n",
      "8566/8566 [==============================] - 3s - loss: 14.3414     \n",
      "Epoch 6/25\n",
      "8566/8566 [==============================] - 3s - loss: 14.4813     \n",
      "Epoch 7/25\n",
      "8566/8566 [==============================] - 3s - loss: 13.2532     \n",
      "Epoch 8/25\n",
      "8566/8566 [==============================] - 3s - loss: 15.3702     \n",
      "Epoch 9/25\n",
      "8566/8566 [==============================] - 3s - loss: 12.8155     \n",
      "Epoch 10/25\n",
      "8566/8566 [==============================] - 3s - loss: 12.9435     \n",
      "Epoch 11/25\n",
      "8566/8566 [==============================] - 3s - loss: 12.4179     \n",
      "Epoch 12/25\n",
      "8566/8566 [==============================] - 3s - loss: 11.7516     \n",
      "Epoch 13/25\n",
      "8566/8566 [==============================] - 3s - loss: 11.5283     \n",
      "Epoch 14/25\n",
      "8566/8566 [==============================] - 3s - loss: 11.8422     \n",
      "Epoch 15/25\n",
      "8566/8566 [==============================] - 3s - loss: 10.6167     \n",
      "Epoch 16/25\n",
      "8566/8566 [==============================] - 3s - loss: 10.3227     \n",
      "Epoch 17/25\n",
      "8566/8566 [==============================] - 3s - loss: 10.3125     \n",
      "Epoch 18/25\n",
      "8566/8566 [==============================] - 3s - loss: 9.5749     \n",
      "Epoch 19/25\n",
      "8566/8566 [==============================] - 3s - loss: 10.2347     \n",
      "Epoch 20/25\n",
      "8566/8566 [==============================] - 3s - loss: 10.3956     \n",
      "Epoch 21/25\n",
      "8566/8566 [==============================] - 3s - loss: 11.2668     \n",
      "Epoch 22/25\n",
      "8566/8566 [==============================] - 3s - loss: 10.1326     \n",
      "Epoch 23/25\n",
      "8566/8566 [==============================] - 3s - loss: 9.8494     \n",
      "Epoch 24/25\n",
      "8566/8566 [==============================] - 3s - loss: 8.6770     \n",
      "Epoch 25/25\n",
      "8566/8566 [==============================] - 3s - loss: 8.8252     \n"
     ]
    }
   ],
   "source": [
    "eps = 1e-2\n",
    "distribution = 'gumbel'\n",
    "\n",
    "train_rainy_days = X_train.mean(axis=3).mean(axis=2).mean(axis=1) > -0.1\n",
    "test_rainy_days = X_test.mean(axis=3).mean(axis=2).mean(axis=1) > -0.1\n",
    "\n",
    "x_mu = np.mean(X_train[train_rainy_days])\n",
    "x_std = np.std(X_train[train_rainy_days])\n",
    "X_train_norm = (X_train - x_mu) / x_std\n",
    "X_test_norm = (X_test - x_mu) / x_std\n",
    "\n",
    "Y_train[train_rainy_days] += eps\n",
    "Y_test[test_rainy_days] += eps\n",
    "\n",
    "#scale_y = StandardScaler().fit(Y_train[train_rainy_days])\n",
    "#Y_train_norm = scale_y.transform(Y_train)\n",
    "\n",
    "model, loss = fit_concrete_climate(25, X_train_norm[train_rainy_days], Y_train[train_rainy_days], \n",
    "                output_activation=None, verbose=1, layer_sizes=[128,128,], \n",
    "                distribution=distribution)\n",
    "\n",
    "Y_samples = np.zeros(shape=(X_test.shape[0], 2, Kmc))\n",
    "Y_samples[test_rainy_days] = np.array([model.predict(X_test_norm[test_rainy_days]) for _ in range(Kmc)]).swapaxes(0,1).swapaxes(1,2)\n",
    "#Y_samples[test_rainy_days] = np.array([scale_y.inverse_transform(model.predict(X_test_norm[test_rainy_days])) \n",
    "#                                       for _ in range(Kmc)]).swapaxes(0,1).swapaxes(1,2)\n"
   ]
  },
  {
   "cell_type": "code",
   "execution_count": null,
   "metadata": {},
   "outputs": [],
   "source": [
    "import seaborn as sns\n",
    "\n",
    "if distribution == 'gumbel':\n",
    "    alpha, beta = gumbel_moments(Y_samples[test_rainy_days])\n",
    "    mu = alpha + beta * 0.5772\n",
    "    sigma2 = np.pi**2 / 6. * beta**2\n",
    "elif distribution == 'normal':\n",
    "    mu, sigma2 = normal_moments(Y_samples[test_rainy_days])\n",
    "\n",
    "rainy_test = Y_test[test_rainy_days, 0]\n",
    "\n",
    "idxs = np.argsort(rainy_test)\n",
    "lw=0.1\n",
    "fig, axs = plt.subplots(3,3, figsize=(12,8))\n",
    "axs = np.ravel(axs)\n",
    "base = 5\n",
    "for ax, i in zip(axs, idxs[::-1][base:base+len(axs)]):\n",
    "    xr = np.arange(-50.,mu[i]*5.,0.1)\n",
    "    if distribution == 'gumbel':\n",
    "        dist = scipy.stats.gumbel_r(loc=alpha[i], \n",
    "                              scale=beta[i])\n",
    "    elif distribution == 'normal':\n",
    "        dist = scipy.stats.norm(loc=mu[i], \n",
    "                              scale=np.sqrt(sigma2[i]))\n",
    "    ax.plot(xr, dist.pdf(xr),\n",
    "            label='pdf', color='red')\n",
    "    ax.axvline(rainy_test[i], ls='--', label='Observed\\nPrecip')\n",
    "\n",
    "    ax.legend()\n",
    "    \n",
    "plt.show()"
   ]
  },
  {
   "cell_type": "code",
   "execution_count": null,
   "metadata": {},
   "outputs": [],
   "source": [
    "idx = np.argsort(mu)[-2]\n",
    "\n",
    "m = mu[idx-5:idx+6]\n",
    "s = np.sqrt(sigma2[idx-5:idx+6])\n",
    "y_est = []\n",
    "\n",
    "low, high = [], []\n",
    "for i in range(len(m)):\n",
    "    if distribution == 'normal':\n",
    "        dist = scipy.stats.norm(loc=m[i], scale=np.sqrt(s[i]))\n",
    "    elif distribution == 'gumbel':\n",
    "        dist = scipy.stats.gumbel_r(loc=alpha[i], \n",
    "                        scale=beta[i])\n",
    "    y_est += [dist.mean()]\n",
    "    high += [dist.ppf(0.9)]\n",
    "    low += [dist.ppf(0.1)]\n",
    "\n",
    "label = Y_test[idx-5:idx+6]\n",
    "\n",
    "plt.figure(figsize=(10,6))\n",
    "plt.plot(y_est)\n",
    "plt.plot(label, ls=':')\n",
    "plt.plot(low, color='green', ls='--')\n",
    "plt.plot(high, color='red', ls='--')\n"
   ]
  },
  {
   "cell_type": "markdown",
   "metadata": {},
   "source": [
    "## How good is our coverage?"
   ]
  },
  {
   "cell_type": "code",
   "execution_count": null,
   "metadata": {},
   "outputs": [],
   "source": [
    "cdf = []\n",
    "#for i in np.where(test_rainy_days)[0]:\n",
    "for i in np.where(rainy_test > 0.)[0]:\n",
    "    if distribution == 'gumbel':\n",
    "        dist = scipy.stats.gumbel_r(loc=alpha[i], scale=beta[i])\n",
    "    elif distribution == 'normal':\n",
    "        dist = scipy.stats.norm(loc=mu[i], scale=sigma2[i]**(0.5))\n",
    "    cdf.append(dist.cdf(Y_test[i])[0])\n",
    "    \n",
    "plt.hist(cdf)\n",
    "plt.xlabel(\"CDF\")"
   ]
  },
  {
   "cell_type": "code",
   "execution_count": null,
   "metadata": {},
   "outputs": [],
   "source": [
    "p_range = np.arange(0.0, 1.0, 0.01)\n",
    "fig, axs = plt.subplots(1,1,figsize=(9,4))\n",
    "axs = np.ravel(axs)\n",
    "\n",
    "ratios = []\n",
    "std = sigma2**2\n",
    "mean = mu\n",
    "for p_interval in p_range:\n",
    "    p = 0.5 + p_interval/2.\n",
    "\n",
    "    plow = (1. - p)/2\n",
    "    phi = 1-plow\n",
    "    \n",
    "    ratios.append(np.mean((cdf > plow) * (cdf < phi)))\n",
    "\n",
    "axs[0].plot(p_range, ratios)\n",
    "axs[0].plot([0,1], [0,1], ls='--')\n"
   ]
  },
  {
   "cell_type": "code",
   "execution_count": null,
   "metadata": {
    "collapsed": true
   },
   "outputs": [],
   "source": []
  },
  {
   "cell_type": "code",
   "execution_count": null,
   "metadata": {
    "collapsed": true
   },
   "outputs": [],
   "source": []
  }
 ],
 "metadata": {
  "kernelspec": {
   "display_name": "Python 2",
   "language": "python",
   "name": "python2"
  },
  "language_info": {
   "codemirror_mode": {
    "name": "ipython",
    "version": 2
   },
   "file_extension": ".py",
   "mimetype": "text/x-python",
   "name": "python",
   "nbconvert_exporter": "python",
   "pygments_lexer": "ipython2",
   "version": "2.7.6"
  }
 },
 "nbformat": 4,
 "nbformat_minor": 1
}

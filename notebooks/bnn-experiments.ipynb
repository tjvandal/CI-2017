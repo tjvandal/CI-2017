{
 "cells": [
  {
   "cell_type": "code",
   "execution_count": 1,
   "metadata": {
    "collapsed": false
   },
   "outputs": [
    {
     "name": "stderr",
     "output_type": "stream",
     "text": [
      "Using TensorFlow backend.\n"
     ]
    }
   ],
   "source": [
    "import sys\n",
    "import numpy as np\n",
    "import tensorflow as tf\n",
    "from models import ConcreteDropout, KerasMCDropout\n",
    "from keras.models import Sequential\n",
    "import keras.backend as K\n",
    "from keras import initializers, regularizers\n",
    "from keras.engine import InputSpec\n",
    "from keras.layers import Dense, Lambda, Wrapper, Dropout\n",
    "np.random.seed(0)"
   ]
  },
  {
   "cell_type": "markdown",
   "metadata": {},
   "source": [
    "# Set some global parameters"
   ]
  },
  {
   "cell_type": "code",
   "execution_count": 2,
   "metadata": {
    "collapsed": false
   },
   "outputs": [],
   "source": [
    "K_test = 100\n",
    "batch_size = 20\n",
    "n_hidden = [512,512,512]\n",
    "l = 1e-4\n",
    "hi_percentile = 97.5\n",
    "low_percentile = 2.5\n",
    "default_dropout_rate = 0.5"
   ]
  },
  {
   "cell_type": "markdown",
   "metadata": {},
   "source": [
    "# Synthetic Data Generator"
   ]
  },
  {
   "cell_type": "code",
   "execution_count": 3,
   "metadata": {
    "collapsed": false
   },
   "outputs": [],
   "source": [
    "def gen_signal(X):\n",
    "    return np.sin(2*X)\n",
    "\n",
    "def gen_data(N, sigma=0.1):\n",
    "    X = np.random.randn(N,1)*2\n",
    "    noise = sigma*np.random.randn(N, 1)\n",
    "    Y = gen_signal(X) + noise\n",
    "    return X, Y"
   ]
  },
  {
   "cell_type": "code",
   "execution_count": 4,
   "metadata": {
    "collapsed": false
   },
   "outputs": [
    {
     "data": {
      "image/png": "[encoded data removed]",
      "text/plain": [
       "<matplotlib.figure.Figure at 0x1147b4e50>"
      ]
     },
     "metadata": {},
     "output_type": "display_data"
    }
   ],
   "source": [
    "import matplotlib.pyplot as plt\n",
    "%matplotlib inline\n",
    "\n",
    "X, Y = gen_data(10)\n",
    "plt.figure(figsize=(10,4))\n",
    "plt.subplot(1,2,1)\n",
    "plt.scatter(X[:, 0], Y[:, 0], edgecolor='b')\n",
    "\n",
    "X, Y = gen_data(1000)\n",
    "plt.subplot(1,2,2)\n",
    "plt.scatter(X[:, 0], Y[:, 0], edgecolor='b', s=0.1)\n",
    "plt.show()"
   ]
  },
  {
   "cell_type": "markdown",
   "metadata": {},
   "source": [
    "# Fit Concrete Dropout"
   ]
  },
  {
   "cell_type": "code",
   "execution_count": 5,
   "metadata": {
    "collapsed": false
   },
   "outputs": [],
   "source": [
    "from keras.layers import Input, Dense, Lambda, merge\n",
    "from keras.models import Model\n",
    "from keras import backend as K\n",
    "\n",
    "def fit_model(nb_epoch, X, Y, output_activation=None, verbose=0):\n",
    "    if K.backend() == 'tensorflow':\n",
    "        K.clear_session()\n",
    "    N = X.shape[0]\n",
    "    wd = l**2. / N\n",
    "    dd = 2. / N\n",
    "    inp = Input(shape=(X.shape[1],))\n",
    "    x = inp\n",
    "    for h in n_hidden:\n",
    "        x = ConcreteDropout(Dense(h, activation='relu'), weight_regularizer=wd, \n",
    "                            dropout_regularizer=dd)(x)\n",
    "    mean = ConcreteDropout(Dense(1, activation=output_activation), \n",
    "                           weight_regularizer=wd, dropout_regularizer=dd)(x)\n",
    "    log_var = ConcreteDropout(Dense(1), weight_regularizer=wd, dropout_regularizer=dd)(x)\n",
    "    out = merge([mean, log_var], mode='concat')\n",
    "    model = Model(inp, out)\n",
    "    def heteroscedastic_loss(true, pred):\n",
    "        mean = pred[:, :1]\n",
    "        log_var = pred[:, 1:]\n",
    "        precision = K.exp(-log_var)\n",
    "        return K.sum(precision * (true - mean)**2. + log_var, -1)\n",
    "    \n",
    "    model.compile(optimizer='adam', loss=heteroscedastic_loss)\n",
    "    hist = model.fit(X, Y, epochs=nb_epoch, batch_size=batch_size, verbose=verbose)\n",
    "    loss = hist.history['loss']\n",
    "    return model, loss  # return ELBO up to const."
   ]
  },
  {
   "cell_type": "code",
   "execution_count": 7,
   "metadata": {
    "collapsed": false,
    "scrolled": false
   },
   "outputs": [
    {
     "name": "stderr",
     "output_type": "stream",
     "text": [
      "/Users/tj/anaconda/lib/python2.7/site-packages/IPython/kernel/__main__.py:19: UserWarning: The `merge` function is deprecated and will be removed after 08/2017. Use instead layers from `keras.layers.merge`, e.g. `add`, `concatenate`, etc.\n"
     ]
    }
   ],
   "source": [
    "X_train, Y_train = gen_data(100, 1.)\n",
    "model, _ = fit_model(100, X_train, Y_train, verbose=0)"
   ]
  },
  {
   "cell_type": "code",
   "execution_count": 8,
   "metadata": {
    "collapsed": false
   },
   "outputs": [
    {
     "data": {
      "text/plain": [
       "[<matplotlib.lines.Line2D at 0x11e334fd0>]"
      ]
     },
     "execution_count": 8,
     "metadata": {},
     "output_type": "execute_result"
    },
    {
     "data": {
      "image/png": "[encoded data removed]",
      "text/plain": [
       "<matplotlib.figure.Figure at 0x11a190c50>"
      ]
     },
     "metadata": {},
     "output_type": "display_data"
    }
   ],
   "source": [
    "X_test = np.arange(-5,5,0.1)\n",
    "Y_test = gen_signal(X_test)\n",
    "Y_samples = np.array([model.predict(X_test[:,np.newaxis])[:,0] for _ in range(K_test)])\n",
    "Y_pred = Y_samples.mean(axis=0)\n",
    "Y_low = np.percentile(Y_samples, 0.5, axis=0)\n",
    "Y_high = np.percentile(Y_samples, 99.5, axis=0)\n",
    "plt.plot(X_test, Y_pred)\n",
    "plt.plot(X_test, Y_low)\n",
    "plt.plot(X_test, Y_high)\n"
   ]
  },
  {
   "cell_type": "markdown",
   "metadata": {},
   "source": [
    "# MC-Dropout"
   ]
  },
  {
   "cell_type": "code",
   "execution_count": 9,
   "metadata": {
    "collapsed": true
   },
   "outputs": [],
   "source": [
    "def fit_mc(nb_epoch, X, Y, output_activation=None, verbose=0,\n",
    "           alpha_divergence=True, alpha=0.5, dropout_prob=0.5):\n",
    "    if K.backend() == 'tensorflow':\n",
    "        K.clear_session()\n",
    "    N = X.shape[0]\n",
    "    D = np.prod(X.shape[1:])\n",
    "    inp = Input(shape=X.shape[1:])\n",
    "    x = inp\n",
    "    #default_dropout_rate = 0.1\n",
    "    for h in n_hidden:\n",
    "        x = KerasMCDropout(Dense(h, activation='relu'), dropout_prob=dropout_prob)(x)\n",
    "        \n",
    "    mean = KerasMCDropout(Dense(1, activation=output_activation), dropout_prob=dropout_prob)(x)\n",
    "    log_var = KerasMCDropout(Dense(1), dropout_prob=default_dropout_rate)(x)\n",
    "    out = merge([mean, log_var], mode='concat')\n",
    "    model = Model(inp, out)\n",
    "    \n",
    "    def alpha_divergence_loss(true, pred):\n",
    "        # heteroskedastic case\n",
    "        mean = pred[:,:1]\n",
    "        log_var = pred[:,1:]\n",
    "        precision = K.exp(-log_var)\n",
    "        ll = K.sum(precision * (true - mean)**2. + log_var, axis=0)\n",
    "        l = -1/alpha*K.log(K.sum(K.exp(-alpha*ll)))\n",
    "\n",
    "        # homoskedastic case\n",
    "        #l = -1/alpha*K.log(K.sum(K.exp(-alpha*tau/2.*K.sum((true - mean)**2, axis=0))))\n",
    "        #l += N * D / 2. * K.log(tau)\n",
    "        return l\n",
    "       # return K.sum(precision * (true - pred)**2. + log_var, -1)\n",
    "    \n",
    "    def heteroskedastic_loss(true, pred):\n",
    "        mean = pred[:,:1]\n",
    "        log_var = pred[:,1:]\n",
    "        precision = K.exp(-log_var)\n",
    "        return K.sum(precision * (true - mean)**2. + log_var)\n",
    "        \n",
    "    if alpha_divergence:\n",
    "        model.compile(optimizer='adam', loss=alpha_divergence_loss)\n",
    "    else:\n",
    "        model.compile(optimizer='adam', loss=heteroskedastic_loss)\n",
    "        \n",
    "    hist = model.fit(X, Y, epochs=nb_epoch, batch_size=batch_size, verbose=verbose)\n",
    "    loss = hist.history['loss']\n",
    "    return model, loss  # return ELBO up to const.\n"
   ]
  },
  {
   "cell_type": "code",
   "execution_count": 12,
   "metadata": {
    "collapsed": false
   },
   "outputs": [
    {
     "name": "stderr",
     "output_type": "stream",
     "text": [
      "/Users/tj/anaconda/lib/python2.7/site-packages/IPython/kernel/__main__.py:15: UserWarning: The `merge` function is deprecated and will be removed after 08/2017. Use instead layers from `keras.layers.merge`, e.g. `add`, `concatenate`, etc.\n"
     ]
    }
   ],
   "source": [
    "X_train, Y_train = gen_data(100, 1.)\n",
    "X_test = np.arange(-7.5,7.5,0.1)\n",
    "Y_test = gen_signal(X_test)\n",
    "\n",
    "\n",
    "mc_model, _ = fit_mc(1000, X_train, Y_train, verbose=0, \n",
    "                     alpha_divergence=False, dropout_prob=0.50)"
   ]
  },
  {
   "cell_type": "code",
   "execution_count": 14,
   "metadata": {
    "collapsed": false
   },
   "outputs": [
    {
     "data": {
      "image/png": "[encoded data removed]",
      "text/plain": [
       "<matplotlib.figure.Figure at 0x118588250>"
      ]
     },
     "metadata": {},
     "output_type": "display_data"
    }
   ],
   "source": [
    "Y_samples = np.array([mc_model.predict(X_test) for _ in range(K_test)])\n",
    "Y_mean = np.mean(Y_samples[:,:,0], axis=0)\n",
    "\n",
    "sample_mean = np.mean(Y_samples[:,:,0], axis=0)\n",
    "yhi  = np.percentile(Y_samples[:,:,0], hi_percentile,  axis=0)\n",
    "ylow = np.percentile(Y_samples[:,:,0], low_percentile, axis=0)\n",
    "\n",
    "plt.plot(X_test, sample_mean)\n",
    "plt.plot(X_test, ylow)\n",
    "plt.plot(X_test, yhi)\n",
    "plt.scatter(X_train, Y_train, alpha=0.2)\n",
    "plt.show()"
   ]
  },
  {
   "cell_type": "markdown",
   "metadata": {},
   "source": [
    "## Dropout with Alpha-Divergence Loss\n",
    "\n",
    "### General Loss function\n",
    "$\\mathcal{L}(\\Theta) = \\dfrac{1}{\\alpha} \\sum_n \\text{log-sum-exp}\\big[ -\\alpha * l(y_n, f^{\\hat{\\omega}_k}(x_n)) \\big] + L_2(\\Theta)$\n",
    "\n",
    "### Regression Loss\n",
    "$l(y, f^{\\hat{\\omega}_k}(x_n)) = \\dfrac{1}{2}||y - f^{\\hat{\\omega}_k}(x)||_2^2$\n",
    "\n",
    "### Regression Alpha-Divergence Loss\n",
    "$\\mathcal{L}(\\Theta) = -\\dfrac{1}{\\alpha} \\sum_n \\text{log-sum-exp} \\big[ -\\dfrac{\\alpha\\tau}{2}||y - f^{\\hat{\\omega}_k}(x)||_2^2 \\big] + \\dfrac{ND}{2}\\text{log}\\tau + \\sum_i p_i ||M_i||_2^2$"
   ]
  },
  {
   "cell_type": "code",
   "execution_count": 86,
   "metadata": {
    "collapsed": false
   },
   "outputs": [
    {
     "name": "stderr",
     "output_type": "stream",
     "text": [
      "/Users/tj/anaconda/lib/python2.7/site-packages/IPython/kernel/__main__.py:59: UserWarning: The `merge` function is deprecated and will be removed after 08/2017. Use instead layers from `keras.layers.merge`, e.g. `add`, `concatenate`, etc.\n"
     ]
    }
   ],
   "source": [
    "\n",
    "X_train, Y_train = gen_data(10, 0.01)\n",
    "X_test = np.arange(-8,8,0.1) # 50\n",
    "Y_test = gen_signal(X_test)\n",
    "\n",
    "alpha_model, _ = fit_mc(1000, X_train, Y_train, verbose=0, alpha_divergence=False, \n",
    "                        dropout_prob=0.25)\n",
    "#mc_model, _ = fit_mc(1000, X_train, Y_train, verbose=0, alpha_divergence=True)\n"
   ]
  },
  {
   "cell_type": "code",
   "execution_count": 87,
   "metadata": {
    "collapsed": false
   },
   "outputs": [
    {
     "name": "stdout",
     "output_type": "stream",
     "text": [
      "[-0.03528862 -0.01374061  0.03960026  0.07706372 -0.01848457 -0.04468308\n",
      "  0.0509216  -0.03350502 -0.01086483  0.01538197]\n",
      "[-1.30065455 -1.36580434 -1.14779432 -1.19432867 -1.37647228 -1.21163445\n",
      " -1.19113186 -1.15424324 -1.1836877  -1.2331899 ]\n"
     ]
    },
    {
     "data": {
      "text/plain": [
       "<matplotlib.collections.PathCollection at 0x11adf3ad0>"
      ]
     },
     "execution_count": 87,
     "metadata": {},
     "output_type": "execute_result"
    },
    {
     "data": {
      "image/png": "[encoded data removed]",
      "text/plain": [
       "<matplotlib.figure.Figure at 0x11f33ffd0>"
      ]
     },
     "metadata": {},
     "output_type": "display_data"
    }
   ],
   "source": [
    "Y_samples = np.array([alpha_model.predict(X_test) for _ in range(K_test)])\n",
    "Y_mean = np.mean(Y_samples[:,:,0], axis=0)\n",
    "second_moment = np.zeros(Y_samples.shape[1])\n",
    "for k in range(K_test):\n",
    "    sample_var = np.exp(Y_samples[k,:,1])\n",
    "    sample_mean = Y_samples[k,:,0]\n",
    "    second_moment += sample_var + sample_mean**2\n",
    "Y_var = second_moment / K_test #- Y_mean**2\n",
    "\n",
    "sample_mean = np.mean(Y_samples[:,:,0], axis=0)\n",
    "yhi  = np.percentile(Y_samples[:,:,0], hi_percentile,  axis=0)\n",
    "ylow = np.percentile(Y_samples[:,:,0], low_percentile, axis=0)\n",
    "#yhi = sample_mean + np.std(Y_var)\n",
    "#hlow = sample_mean - np.std(Y_var)\n",
    "print yhi[:10]\n",
    "print ylow[:10]\n",
    "plt.plot(X_test, sample_mean)\n",
    "plt.plot(X_test, ylow)\n",
    "plt.plot(X_test, yhi)\n",
    "plt.scatter(X_train, Y_train, alpha=0.5)"
   ]
  },
  {
   "cell_type": "markdown",
   "metadata": {},
   "source": [
    "# Climate Downscaling Experiments"
   ]
  },
  {
   "cell_type": "markdown",
   "metadata": {},
   "source": [
    "## Read Data"
   ]
  },
  {
   "cell_type": "code",
   "execution_count": 1,
   "metadata": {
    "collapsed": false
   },
   "outputs": [
    {
     "ename": "NameError",
     "evalue": "global name 'np' is not defined",
     "output_type": "error",
     "traceback": [
      "\u001b[0;31m---------------------------------------------------------------------------\u001b[0m",
      "\u001b[0;31mNameError\u001b[0m                                 Traceback (most recent call last)",
      "\u001b[0;32m<ipython-input-1-e4c2ffb3ae29>\u001b[0m in \u001b[0;36m<module>\u001b[0;34m()\u001b[0m\n\u001b[1;32m     17\u001b[0m \u001b[0mtest_file\u001b[0m \u001b[0;34m=\u001b[0m \u001b[0;34m'data/test_28.5384_-81.3792'\u001b[0m\u001b[0;34m\u001b[0m\u001b[0m\n\u001b[1;32m     18\u001b[0m \u001b[0;34m\u001b[0m\u001b[0m\n\u001b[0;32m---> 19\u001b[0;31m \u001b[0mX_train\u001b[0m\u001b[0;34m,\u001b[0m \u001b[0mY_train\u001b[0m \u001b[0;34m=\u001b[0m \u001b[0mread_file\u001b[0m\u001b[0;34m(\u001b[0m\u001b[0mtrain_file\u001b[0m\u001b[0;34m)\u001b[0m\u001b[0;34m\u001b[0m\u001b[0m\n\u001b[0m\u001b[1;32m     20\u001b[0m \u001b[0mX_test\u001b[0m\u001b[0;34m,\u001b[0m \u001b[0mY_test\u001b[0m \u001b[0;34m=\u001b[0m \u001b[0mread_file\u001b[0m\u001b[0;34m(\u001b[0m\u001b[0mtest_file\u001b[0m\u001b[0;34m)\u001b[0m\u001b[0;34m\u001b[0m\u001b[0m\n\u001b[1;32m     21\u001b[0m \u001b[0;32mprint\u001b[0m \u001b[0mX_train\u001b[0m\u001b[0;34m.\u001b[0m\u001b[0mshape\u001b[0m\u001b[0;34m,\u001b[0m \u001b[0mY_train\u001b[0m\u001b[0;34m.\u001b[0m\u001b[0mshape\u001b[0m\u001b[0;34m\u001b[0m\u001b[0m\n",
      "\u001b[0;32m<ipython-input-1-e4c2ffb3ae29>\u001b[0m in \u001b[0;36mread_file\u001b[0;34m(f)\u001b[0m\n\u001b[1;32m      8\u001b[0m             \u001b[0;32mdel\u001b[0m \u001b[0mdata\u001b[0m\u001b[0;34m[\u001b[0m\u001b[0mc\u001b[0m\u001b[0;34m]\u001b[0m\u001b[0;34m\u001b[0m\u001b[0m\n\u001b[1;32m      9\u001b[0m     \u001b[0mX\u001b[0m \u001b[0;34m=\u001b[0m \u001b[0mdata\u001b[0m\u001b[0;34m.\u001b[0m\u001b[0mvalues\u001b[0m\u001b[0;34m[\u001b[0m\u001b[0;34m:\u001b[0m\u001b[0;34m,\u001b[0m\u001b[0;36m2\u001b[0m\u001b[0;34m:\u001b[0m\u001b[0;34m]\u001b[0m\u001b[0;34m\u001b[0m\u001b[0m\n\u001b[0;32m---> 10\u001b[0;31m     \u001b[0mX\u001b[0m \u001b[0;34m=\u001b[0m \u001b[0mX\u001b[0m\u001b[0;34m.\u001b[0m\u001b[0mreshape\u001b[0m\u001b[0;34m(\u001b[0m\u001b[0;34m(\u001b[0m\u001b[0mX\u001b[0m\u001b[0;34m.\u001b[0m\u001b[0mshape\u001b[0m\u001b[0;34m[\u001b[0m\u001b[0;36m0\u001b[0m\u001b[0;34m]\u001b[0m\u001b[0;34m,\u001b[0m \u001b[0;36m9\u001b[0m\u001b[0;34m,\u001b[0m \u001b[0;36m9\u001b[0m\u001b[0;34m)\u001b[0m\u001b[0;34m)\u001b[0m\u001b[0;34m[\u001b[0m\u001b[0;34m:\u001b[0m\u001b[0;34m,\u001b[0m\u001b[0;34m:\u001b[0m\u001b[0;34m,\u001b[0m\u001b[0;34m:\u001b[0m\u001b[0;34m,\u001b[0m\u001b[0mnp\u001b[0m\u001b[0;34m.\u001b[0m\u001b[0mnewaxis\u001b[0m\u001b[0;34m]\u001b[0m\u001b[0;34m\u001b[0m\u001b[0m\n\u001b[0m\u001b[1;32m     11\u001b[0m     \u001b[0mplt\u001b[0m\u001b[0;34m.\u001b[0m\u001b[0mimshow\u001b[0m\u001b[0;34m(\u001b[0m\u001b[0mX\u001b[0m\u001b[0;34m[\u001b[0m\u001b[0;36m0\u001b[0m\u001b[0;34m,\u001b[0m\u001b[0;34m:\u001b[0m\u001b[0;34m,\u001b[0m\u001b[0;34m:\u001b[0m\u001b[0;34m,\u001b[0m\u001b[0;36m0\u001b[0m\u001b[0;34m]\u001b[0m\u001b[0;34m,\u001b[0m \u001b[0minterpolation\u001b[0m\u001b[0;34m=\u001b[0m\u001b[0;34m'nearest'\u001b[0m\u001b[0;34m)\u001b[0m\u001b[0;34m\u001b[0m\u001b[0m\n\u001b[1;32m     12\u001b[0m     \u001b[0mplt\u001b[0m\u001b[0;34m.\u001b[0m\u001b[0mshow\u001b[0m\u001b[0;34m(\u001b[0m\u001b[0;34m)\u001b[0m\u001b[0;34m\u001b[0m\u001b[0m\n",
      "\u001b[0;31mNameError\u001b[0m: global name 'np' is not defined"
     ]
    }
   ],
   "source": [
    "import pandas as pd\n",
    "\n",
    "def read_file(f):\n",
    "    data = pd.read_csv(f, header=None)\n",
    "    data = data.rename(columns={0: 'time', 1: 'label'})\n",
    "    for c in data.columns:\n",
    "        if isinstance(c, int) and ((c % 2) == 1):\n",
    "            del data[c]\n",
    "    X = data.values[:,2:]\n",
    "    X = X.reshape((X.shape[0], 9, 9))[:,:,:,np.newaxis]\n",
    "    plt.imshow(X[0,:,:,0], interpolation='nearest')\n",
    "    plt.show()\n",
    "    y = data.values[:,1,np.newaxis]\n",
    "    return X, y\n",
    "\n",
    "train_file = 'data/train_28.5384_-81.3792'\n",
    "test_file = 'data/test_28.5384_-81.3792'\n",
    "\n",
    "X_train, Y_train = read_file(train_file)\n",
    "X_test, Y_test = read_file(test_file)\n",
    "print X_train.shape, Y_train.shape"
   ]
  },
  {
   "cell_type": "markdown",
   "metadata": {},
   "source": [
    "## Fit Concrete Dropout"
   ]
  },
  {
   "cell_type": "code",
   "execution_count": 2,
   "metadata": {
    "collapsed": false
   },
   "outputs": [
    {
     "name": "stderr",
     "output_type": "stream",
     "text": [
      "Using TensorFlow backend.\n"
     ]
    }
   ],
   "source": [
    "from keras.layers import Conv2D, MaxPooling2D, Flatten\n",
    "from sklearn.preprocessing import StandardScaler \n",
    "\n",
    "def fit_concrete_climate(nb_epoch, X, Y, output_activation=None, verbose=0):\n",
    "\n",
    "    if K.backend() == 'tensorflow':\n",
    "        K.clear_session()\n",
    "    N = X.shape[0]\n",
    "    wd = l**2. / N\n",
    "    dd = 2. / N\n",
    "    inp = Input(shape=X.shape[1:])\n",
    "    x = inp\n",
    "    for h in n_hidden:\n",
    "        x = ConcreteDropout(Conv2D(h, (3,3), padding='valid', activation='relu'), \n",
    "                            weight_regularizer=wd, \n",
    "                            dropout_regularizer=dd)(x)\n",
    "    #x = K.reshape(x, (-1, 9*9))\n",
    "    x = Flatten()(x)\n",
    "    mean = ConcreteDropout(Dense(1, activation=output_activation), \n",
    "                           weight_regularizer=wd, dropout_regularizer=dd)(x)\n",
    "    log_var = ConcreteDropout(Dense(1), weight_regularizer=wd, dropout_regularizer=dd)(x)\n",
    "    out = merge([mean, log_var], mode='concat')\n",
    "    model = Model(inp, out)\n",
    "    def heteroscedastic_loss(true, pred):\n",
    "        mean = pred[:, :1]\n",
    "        log_var = pred[:, 1:]\n",
    "        precision = K.exp(-log_var)\n",
    "        return K.sum(precision * (true - mean)**2. + log_var, -1)\n",
    "    model.compile(optimizer='adam', loss=heteroscedastic_loss)\n",
    "    hist = model.fit(X, Y, epochs=nb_epoch, batch_size=batch_size, verbose=verbose)\n",
    "    loss = hist.history['loss']\n",
    "    return model, loss  # return ELBO up to const."
   ]
  },
  {
   "cell_type": "code",
   "execution_count": 3,
   "metadata": {
    "collapsed": false
   },
   "outputs": [
    {
     "ename": "NameError",
     "evalue": "name 'np' is not defined",
     "output_type": "error",
     "traceback": [
      "\u001b[0;31m---------------------------------------------------------------------------\u001b[0m",
      "\u001b[0;31mNameError\u001b[0m                                 Traceback (most recent call last)",
      "\u001b[0;32m<ipython-input-3-8871aa8391a3>\u001b[0m in \u001b[0;36m<module>\u001b[0;34m()\u001b[0m\n\u001b[0;32m----> 1\u001b[0;31m \u001b[0mx_mu\u001b[0m \u001b[0;34m=\u001b[0m \u001b[0mnp\u001b[0m\u001b[0;34m.\u001b[0m\u001b[0mmean\u001b[0m\u001b[0;34m(\u001b[0m\u001b[0mX_train\u001b[0m\u001b[0;34m)\u001b[0m\u001b[0;34m\u001b[0m\u001b[0m\n\u001b[0m\u001b[1;32m      2\u001b[0m \u001b[0mx_std\u001b[0m \u001b[0;34m=\u001b[0m \u001b[0mnp\u001b[0m\u001b[0;34m.\u001b[0m\u001b[0mstd\u001b[0m\u001b[0;34m(\u001b[0m\u001b[0mX_train\u001b[0m\u001b[0;34m)\u001b[0m\u001b[0;34m\u001b[0m\u001b[0m\n\u001b[1;32m      3\u001b[0m \u001b[0mX_train_norm\u001b[0m \u001b[0;34m=\u001b[0m \u001b[0;34m(\u001b[0m\u001b[0mX_train\u001b[0m \u001b[0;34m-\u001b[0m \u001b[0mx_mu\u001b[0m\u001b[0;34m)\u001b[0m \u001b[0;34m/\u001b[0m \u001b[0mx_std\u001b[0m\u001b[0;34m\u001b[0m\u001b[0m\n\u001b[1;32m      4\u001b[0m \u001b[0mX_test_norm\u001b[0m \u001b[0;34m=\u001b[0m \u001b[0;34m(\u001b[0m\u001b[0mX_test\u001b[0m \u001b[0;34m-\u001b[0m \u001b[0mx_mu\u001b[0m\u001b[0;34m)\u001b[0m \u001b[0;34m/\u001b[0m \u001b[0mx_std\u001b[0m\u001b[0;34m\u001b[0m\u001b[0m\n\u001b[1;32m      5\u001b[0m \u001b[0;34m\u001b[0m\u001b[0m\n",
      "\u001b[0;31mNameError\u001b[0m: name 'np' is not defined"
     ]
    }
   ],
   "source": [
    "x_mu = np.mean(X_train)\n",
    "x_std = np.std(X_train)\n",
    "X_train_norm = (X_train - x_mu) / x_std\n",
    "X_test_norm = (X_test - x_mu) / x_std\n",
    "\n",
    "scale_y = StandardScaler().fit(Y_train)\n",
    "Y_train_norm = scale_y.transform(Y_train)\n",
    "\n",
    "K.clear_session()\n",
    "model, loss = fit_concrete_climate(5, X_train_norm, Y_train_norm, output_activation='relu', \n",
    "                        verbose=1)\n",
    "Y_samples = np.array([model.predict(X_test)[:,0] for _ in range(K_test)])\n",
    "Y_samples = scale_y.inverse_transform(Y_samples)\n",
    "Y_pred = Y_samples.mean(axis=0)"
   ]
  },
  {
   "cell_type": "code",
   "execution_count": null,
   "metadata": {
    "collapsed": false
   },
   "outputs": [],
   "source": [
    "model.predict(X_train)\n",
    "loss"
   ]
  },
  {
   "cell_type": "code",
   "execution_count": null,
   "metadata": {
    "collapsed": false
   },
   "outputs": [],
   "source": [
    "import seaborn as sns\n",
    "\n",
    "lw=0.1\n",
    "idxs = np.argsort(Y_test[:,0])\n",
    "\n",
    "for idx in idxs[::-1][:10]:\n",
    "    sns.kdeplot(Y_samples[:,idx], shade=True)\n",
    "    plt.vlines(Y_test[idx,0], 0, 1, color='red', alpha=0.5)\n",
    "    plt.vlines(Y_pred[idx], 0, 1, color='blue', alpha=0.5)\n",
    "    plt.show()"
   ]
  },
  {
   "cell_type": "code",
   "execution_count": null,
   "metadata": {
    "collapsed": true
   },
   "outputs": [],
   "source": []
  },
  {
   "cell_type": "code",
   "execution_count": null,
   "metadata": {
    "collapsed": true
   },
   "outputs": [],
   "source": []
  }
 ],
 "metadata": {
  "kernelspec": {
   "display_name": "Python 2",
   "language": "python",
   "name": "python2"
  },
  "language_info": {
   "codemirror_mode": {
    "name": "ipython",
    "version": 2
   },
   "file_extension": ".py",
   "mimetype": "text/x-python",
   "name": "python",
   "nbconvert_exporter": "python",
   "pygments_lexer": "ipython2",
   "version": "2.7.12"
  }
 },
 "nbformat": 4,
 "nbformat_minor": 0
}

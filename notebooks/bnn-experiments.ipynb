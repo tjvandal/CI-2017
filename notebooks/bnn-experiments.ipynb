{
 "cells": [
  {
   "cell_type": "markdown",
   "metadata": {},
   "source": [
    "## Evaluation Plan\n",
    "1. Synthetic Data - Generate data with Noise\n",
    "    i. Figure: 4 Plots - training_data, mc_dropout, concrete_dropout, mc_alpha  \n",
    "    ii. Figure: (x-axis) confidence interval vs (y-axis) percentage of samples in interval   \n",
    "2. Climate Downscaling Dataset (eval on test set)  \n",
    "    i. Table: RMSE, Corr, Prediction intervals  \n",
    "    ii. Figure: True vs Prediction, Distribution of samples for an extreme  \n"
   ]
  },
  {
   "cell_type": "code",
   "execution_count": 47,
   "metadata": {
    "collapsed": true
   },
   "outputs": [],
   "source": [
    "import sys\n",
    "import numpy as np\n",
    "import tensorflow as tf\n",
    "from models import ConcreteDropout, KerasMCDropout, smooth\n",
    "from keras.models import Sequential\n",
    "import keras.backend as K\n",
    "from keras import initializers, regularizers, optimizers\n",
    "from keras.engine import InputSpec\n",
    "from keras.layers import Dense, Lambda, Wrapper, Dropout\n",
    "import matplotlib.pyplot as plt\n",
    "%matplotlib inline\n",
    "from matplotlib.patches import Polygon\n",
    "import seaborn as sns\n",
    "import scipy.stats \n",
    "\n",
    "sns.set_context(\"paper\", font_scale=2.0)\n",
    "np.random.seed(0)"
   ]
  },
  {
   "cell_type": "markdown",
   "metadata": {},
   "source": [
    "# Set some global parameters"
   ]
  },
  {
   "cell_type": "code",
   "execution_count": 48,
   "metadata": {
    "collapsed": true
   },
   "outputs": [],
   "source": [
    "K_test = 50\n",
    "batch_size = 20\n",
    "n_hidden = [1024,1024,1024]\n",
    "lr = 1e-4\n",
    "hi_percentile = 97.5\n",
    "low_percentile = 2.5\n",
    "default_dropout_rate = 0.5"
   ]
  },
  {
   "cell_type": "markdown",
   "metadata": {},
   "source": [
    "# Synthetic Data Generator"
   ]
  },
  {
   "cell_type": "code",
   "execution_count": 49,
   "metadata": {
    "collapsed": true
   },
   "outputs": [],
   "source": [
    "def gen_signal(X):\n",
    "    return np.sin(2*X)\n",
    "\n",
    "def gen_data(N=None, X=None, sigma=0.1):\n",
    "    if X is None:\n",
    "        X = np.random.randn(N,1)\n",
    "    else:\n",
    "        N = X.shape[0]\n",
    "    noise = sigma*np.random.randn(N, 1)\n",
    "    Y = gen_signal(X) + noise\n",
    "    return X, Y"
   ]
  },
  {
   "cell_type": "code",
   "execution_count": 50,
   "metadata": {},
   "outputs": [
    {
     "data": {
      "image/png": "[encoded data removed]",
      "text/plain": [
       "<matplotlib.figure.Figure at 0x7f1e150d4fd0>"
      ]
     },
     "metadata": {},
     "output_type": "display_data"
    }
   ],
   "source": [
    "\n",
    "X, Y = gen_data(100)\n",
    "plt.figure(figsize=(10,4))\n",
    "plt.subplot(1,2,1)\n",
    "plt.scatter(X[:, 0], Y[:, 0], edgecolor='b', s=10.)\n",
    "\n",
    "X, Y = gen_data(1000)\n",
    "plt.subplot(1,2,2)\n",
    "plt.scatter(X[:, 0], Y[:, 0], edgecolor='b', s=0.1)\n",
    "plt.show()"
   ]
  },
  {
   "cell_type": "markdown",
   "metadata": {},
   "source": [
    "# Fit Concrete Dropout"
   ]
  },
  {
   "cell_type": "code",
   "execution_count": 51,
   "metadata": {
    "collapsed": true
   },
   "outputs": [],
   "source": [
    "from keras.layers import Input, Dense, Lambda, merge\n",
    "from keras.models import Model\n",
    "from keras import backend as K\n",
    "\n",
    "def fit_concrete(nb_epoch, X, Y, output_activation=None, verbose=0):\n",
    "    if K.backend() == 'tensorflow':\n",
    "        K.clear_session()\n",
    "    N = X.shape[0]\n",
    "    wd = l**2. / N\n",
    "    dd = 2. / N\n",
    "    inp = Input(shape=(X.shape[1],))\n",
    "    x = inp\n",
    "    for h in n_hidden:\n",
    "        x = ConcreteDropout(Dense(h, activation='relu'), weight_regularizer=wd, \n",
    "                            dropout_regularizer=dd)(x)\n",
    "    mean = ConcreteDropout(Dense(1, activation=output_activation), \n",
    "                           weight_regularizer=wd, dropout_regularizer=dd)(x)\n",
    "    log_var = ConcreteDropout(Dense(1), weight_regularizer=wd, dropout_regularizer=dd)(x)\n",
    "    out = merge([mean, log_var], mode='concat')\n",
    "    model = Model(inp, out)\n",
    "    def heteroscedastic_loss(true, pred):\n",
    "        mean = pred[:, :1]\n",
    "        log_var = pred[:, 1:]\n",
    "        precision = K.exp(-log_var)\n",
    "        return K.sum(precision * (true - mean)**2. + log_var, -1)\n",
    "    \n",
    "    adam = optimizers.Adam(lr=lr, beta_1=0.9, beta_2=0.999, epsilon=1e-08, decay=0.0)\n",
    "    model.compile(optimizer=adam, loss=heteroscedastic_loss)\n",
    "    hist = model.fit(X, Y, epochs=nb_epoch, batch_size=batch_size, verbose=verbose)\n",
    "    loss = hist.history['loss']\n",
    "    return model, loss  # return ELBO up to const."
   ]
  },
  {
   "cell_type": "markdown",
   "metadata": {},
   "source": [
    "# MC-Dropout"
   ]
  },
  {
   "cell_type": "code",
   "execution_count": 53,
   "metadata": {
    "collapsed": true
   },
   "outputs": [],
   "source": [
    "def fit_mc(nb_epoch, X, Y, output_activation=None, verbose=0,\n",
    "           alpha_divergence=True, alpha=0.5, dropout_prob=0.5):\n",
    "    if K.backend() == 'tensorflow':\n",
    "        K.clear_session()\n",
    "    N = X.shape[0]\n",
    "    D = np.prod(X.shape[1:])\n",
    "    inp = Input(shape=X.shape[1:])\n",
    "    x = inp\n",
    "    #default_dropout_rate = 0.1\n",
    "    for h in n_hidden:\n",
    "        x = KerasMCDropout(Dense(h, activation='relu'), dropout_prob=dropout_prob)(x)\n",
    "        \n",
    "    mean = KerasMCDropout(Dense(1, activation=output_activation), dropout_prob=dropout_prob)(x)\n",
    "    log_var = KerasMCDropout(Dense(1), dropout_prob=default_dropout_rate)(x)\n",
    "    out = merge([mean, log_var], mode='concat')\n",
    "    model = Model(inp, out)\n",
    "    \n",
    "    def alpha_divergence_loss(true, pred):\n",
    "        # heteroskedastic case\n",
    "        mean = pred[:,:1]\n",
    "        log_var = pred[:,1:]\n",
    "        precision = K.exp(-log_var)\n",
    "        ll = K.sum(precision * (true - mean)**2. + log_var, axis=0)\n",
    "        l = -1/alpha*K.log(K.sum(K.exp(-alpha*ll)))\n",
    "\n",
    "        # homoskedastic case\n",
    "        #l = -1/alpha*K.log(K.sum(K.exp(-alpha*tau/2.*K.sum((true - mean)**2, axis=0))))\n",
    "        #l += N * D / 2. * K.log(tau)\n",
    "        return l\n",
    "       # return K.sum(precision * (true - pred)**2. + log_var, -1)\n",
    "    \n",
    "    def heteroskedastic_loss(true, pred):\n",
    "        mean = pred[:,:1]\n",
    "        log_var = pred[:,1:]\n",
    "        precision = K.exp(-log_var)\n",
    "        return K.sum(precision * (true - mean)**2. + log_var)\n",
    "        \n",
    "    adam = optimizers.Adam(lr=lr, beta_1=0.9, beta_2=0.999, epsilon=1e-08, decay=0.0)\n",
    "    \n",
    "    if alpha_divergence:\n",
    "        model.compile(optimizer=adam, loss=alpha_divergence_loss)\n",
    "    else:\n",
    "        model.compile(optimizer=adam, loss=heteroskedastic_loss)\n",
    "        \n",
    "    hist = model.fit(X, Y, epochs=nb_epoch, batch_size=batch_size, verbose=verbose)\n",
    "    loss = hist.history['loss']\n",
    "    return model, loss  # return ELBO up to const.\n"
   ]
  },
  {
   "cell_type": "markdown",
   "metadata": {},
   "source": [
    "## Dropout with Alpha-Divergence Loss\n",
    "\n",
    "### General Loss function\n",
    "$\\mathcal{L}(\\Theta) = \\dfrac{1}{\\alpha} \\sum_n \\text{log-sum-exp}\\big[ -\\alpha * l(y_n, f^{\\hat{\\omega}_k}(x_n)) \\big] + L_2(\\Theta)$\n",
    "\n",
    "### Regression Loss\n",
    "$l(y, f^{\\hat{\\omega}_k}(x_n)) = \\dfrac{1}{2}||y - f^{\\hat{\\omega}_k}(x)||_2^2$\n",
    "\n",
    "### Regression Alpha-Divergence Loss\n",
    "$\\mathcal{L}(\\Theta) = -\\dfrac{1}{\\alpha} \\sum_n \\text{log-sum-exp} \\big[ -\\dfrac{\\alpha\\tau}{2}||y - f^{\\hat{\\omega}_k}(x)||_2^2 \\big] + \\dfrac{ND}{2}\\text{log}\\tau + \\sum_i p_i ||M_i||_2^2$"
   ]
  },
  {
   "cell_type": "markdown",
   "metadata": {},
   "source": [
    "## Experiments with Synthetic Data\n",
    "\n",
    "### Figure 1"
   ]
  },
  {
   "cell_type": "code",
   "execution_count": null,
   "metadata": {
    "scrolled": true
   },
   "outputs": [
    {
     "name": "stderr",
     "output_type": "stream",
     "text": [
      "/usr/local/lib/python2.7/dist-packages/ipykernel_launcher.py:15: UserWarning: The `merge` function is deprecated and will be removed after 08/2017. Use instead layers from `keras.layers.merge`, e.g. `add`, `concatenate`, etc.\n",
      "  from ipykernel import kernelapp as app\n"
     ]
    }
   ],
   "source": [
    "sns.set_style(\"white\")\n",
    "N = 1000\n",
    "Kmc = 50\n",
    "sigma = 0.50\n",
    "epochs = 1000\n",
    "X_train, Y_train = gen_data(N=N, sigma=sigma)\n",
    "\n",
    "X_test = np.arange(-4, 4, 0.01)\n",
    "Y_signal = gen_signal(X_test[:,np.newaxis])\n",
    "Y_test = gen_data(X=X_test[:,np.newaxis], sigma=sigma)\n",
    "\n",
    "fig, axs = plt.subplots(1,4, figsize=(14,3), sharex=True, sharey=True)\n",
    "axs = np.ravel(axs)\n",
    "axs[0].scatter(X_train, Y_train, s=2)\n",
    "axs[0].set_title(\"Training Data\")\n",
    "\n",
    "# TODO: Complete this function and redo plot\n",
    "def get_moments(samples):\n",
    "    Y_mean = np.mean(samples[:,:,0], axis=0)\n",
    "    second_moment = np.zeros(samples.shape[1])\n",
    "    for k in range(samples.shape[0]):\n",
    "        sample_var = np.exp(samples[k,:,1])\n",
    "        sample_mean = samples[k,:,0]\n",
    "        second_moment += sample_var + sample_mean**2\n",
    "    Y_var = second_moment / samples.shape[0] - Y_mean**2\n",
    "    return Y_mean, Y_var\n",
    "\n",
    "\n",
    "test_results=dict()\n",
    "plot_labels = ['A)', 'B)', 'C)', 'D)']\n",
    "for j in range(3):\n",
    "    if j == 0:\n",
    "        name = 'MC Dropout'\n",
    "        model, _ = fit_mc(epochs, X_train, Y_train, verbose=0, alpha_divergence=False, \n",
    "                        dropout_prob=default_dropout_rate)\n",
    "    elif j == 1:\n",
    "        name = 'Alpha-Divergence'\n",
    "        model, _ = fit_mc(epochs, X_train, Y_train, verbose=0, alpha_divergence=True, \n",
    "                        dropout_prob=default_dropout_rate)\n",
    "    elif j == 2:\n",
    "        name = 'Concrete Dropout'\n",
    "        model, _ = fit_concrete(epochs, X_train, Y_train, verbose=0)\n",
    "    \n",
    "    Y_samples = np.array([model.predict(X_test[:,np.newaxis]) for _ in range(Kmc)])\n",
    "    \n",
    "    Y_mean, Y_var = get_moments(Y_samples)\n",
    "    Y_std = np.std(Y_var)\n",
    "    \n",
    "    test_results[name] = dict(mu=Y_mean, std=Y_std, samples=Y_samples)\n",
    "    \n",
    "    window_len = 41\n",
    "    pad = window_len - 1\n",
    "    Y_mean_smooth = smooth(Y_mean, window_len)[pad:-pad]\n",
    "    for i, z in enumerate([3., 2., 1.]):        \n",
    "        yhi = smooth(Y_mean + z*Y_std, window_len)[pad:-pad]\n",
    "        ylow = smooth(Y_mean - z*Y_std, window_len)[pad:-pad]\n",
    "        hi_percentile = scipy.stats.norm.cdf(z)*100.\n",
    "        low_percentile = 100 - hi_percentile\n",
    "        #yhi  = smooth(np.percentile(Y_samples[:,:,0], hi_percentile,  axis=0), window_len)[pad:-pad]\n",
    "        #ylow = smooth(np.percentile(Y_samples[:,:,0], low_percentile, axis=0), window_len)[pad:-pad]\n",
    "        \n",
    "        x = np.concatenate([X_test, np.flipud(X_test)])[:,np.newaxis]\n",
    "        y = np.concatenate([ylow, np.flipud(yhi)])[:,np.newaxis]\n",
    "        xy = np.concatenate([x,y], axis=1)\n",
    "\n",
    "        poly = Polygon(xy, closed=False, alpha=(i+1)*0.1, color='green')\n",
    "        axs[j+1].add_patch(poly) \n",
    "    \n",
    "    axs[j+1].scatter(X_train, Y_train, s=1.)\n",
    "    axs[j+1].plot(X_test, Y_mean_smooth, lw=1.)\n",
    "    axs[j+1].set_title(name)\n",
    "\n",
    "for i in range(4):\n",
    "    axs[i].text(-0.1,1.05, plot_labels[i], horizontalalignment='center', verticalalignment='center',\n",
    "            transform=axs[i].transAxes, fontsize=14)\n",
    "plt.savefig(\"figure1.pdf\")\n",
    "plt.show()"
   ]
  },
  {
   "cell_type": "markdown",
   "metadata": {},
   "source": [
    "### Figure 2"
   ]
  },
  {
   "cell_type": "code",
   "execution_count": null,
   "metadata": {},
   "outputs": [],
   "source": [
    "p_range = np.arange(0.0, 1.0, 0.01)\n",
    "fig = plt.figure(figsize=(8,6))\n",
    "for key, val in test_results.iteritems():\n",
    "    print key\n",
    "    ratios = []\n",
    "    std = val['std']\n",
    "    mean = val['mu']\n",
    "    for p_interval in p_range:\n",
    "        p = 0.5 + p_interval/2.\n",
    "        \n",
    "        plow = (1. - p)/2\n",
    "        phi = 1-plow\n",
    "        samples = val['samples']\n",
    "        low  = np.percentile(samples[:,:,0], plow*100,  axis=0)\n",
    "        high = np.percentile(samples[:,:,0], phi*100, axis=0)\n",
    "        \n",
    "        z = scipy.stats.norm.ppf(p)\n",
    "        low = mean - z*std\n",
    "        high = mean + z*std\n",
    "        obs_in_range = (Y_test > low) * (Y_test < high)\n",
    "        ratios.append(np.mean(obs_in_range))\n",
    "    plt.plot(p_range, ratios, label=key, lw=2)\n",
    "\n",
    "plt.plot([0,1], [0,1], ls='dashed', label='Ideal')\n",
    "plt.xlim([0.0,1])\n",
    "plt.ylim([0,1])\n",
    "plt.xlabel(\"Interval Width\")\n",
    "plt.ylabel(\"P(Label in Interval)\")\n",
    "plt.title(\"Predictive Uncertainty\")\n",
    "plt.legend()\n",
    "plt.savefig(\"figure2.pdf\")\n",
    "plt.show()\n"
   ]
  },
  {
   "cell_type": "markdown",
   "metadata": {},
   "source": [
    "# Climate Downscaling Experiments"
   ]
  },
  {
   "cell_type": "markdown",
   "metadata": {},
   "source": [
    "## Read Data"
   ]
  },
  {
   "cell_type": "code",
   "execution_count": 129,
   "metadata": {},
   "outputs": [
    {
     "data": {
      "image/png": "[encoded data removed]",
      "text/plain": [
       "<matplotlib.figure.Figure at 0x7f0ab037f650>"
      ]
     },
     "metadata": {},
     "output_type": "display_data"
    },
    {
     "data": {
      "image/png": "[encoded data removed]",
      "text/plain": [
       "<matplotlib.figure.Figure at 0x7f0ab1187590>"
      ]
     },
     "metadata": {},
     "output_type": "display_data"
    },
    {
     "name": "stdout",
     "output_type": "stream",
     "text": [
      "(8766, 9, 9, 1) (8766, 1)\n"
     ]
    }
   ],
   "source": [
    "import pandas as pd\n",
    "\n",
    "Kmc = 30\n",
    "\n",
    "def read_file(f):\n",
    "    data = pd.read_csv(f, header=None)\n",
    "    data = data.rename(columns={0: 'time', 1: 'label'})\n",
    "    for c in data.columns:\n",
    "        if isinstance(c, int) and ((c % 2) == 1):\n",
    "            del data[c]\n",
    "    X = data.values[:,2:]\n",
    "    X = X.reshape((X.shape[0], 9, 9))[:,:,:,np.newaxis]\n",
    "    plt.imshow(X[0,:,:,0], interpolation='nearest')\n",
    "    plt.show()\n",
    "    y = data.values[:,1,np.newaxis]\n",
    "    return X, y\n",
    "\n",
    "train_file = 'data/train_28.5384_-81.3792'\n",
    "test_file = 'data/test_28.5384_-81.3792'\n",
    "\n",
    "X_train, Y_train = read_file(train_file)\n",
    "X_test, Y_test = read_file(test_file)\n",
    "print X_train.shape, Y_train.shape"
   ]
  },
  {
   "cell_type": "markdown",
   "metadata": {},
   "source": [
    "## Fit Concrete Dropout"
   ]
  },
  {
   "cell_type": "code",
   "execution_count": 130,
   "metadata": {
    "collapsed": true
   },
   "outputs": [],
   "source": [
    "from keras.layers import Conv2D, MaxPooling2D, Flatten\n",
    "from sklearn.preprocessing import StandardScaler \n",
    "\n",
    "def fit_concrete_climate(nb_epoch, X, Y, output_activation=None, verbose=0):\n",
    "\n",
    "    if K.backend() == 'tensorflow':\n",
    "        K.clear_session()\n",
    "    N = X.shape[0]\n",
    "    wd = l**2. / N\n",
    "    dd = 2. / N\n",
    "    inp = Input(shape=X.shape[1:])\n",
    "    x = inp\n",
    "    for h in n_hidden:\n",
    "        x = ConcreteDropout(Conv2D(h, (3,3), padding='valid', activation='relu'), \n",
    "                            weight_regularizer=wd, \n",
    "                            dropout_regularizer=dd)(x)\n",
    "    #x = K.reshape(x, (-1, 9*9))\n",
    "    x = Flatten()(x)\n",
    "    mean = ConcreteDropout(Dense(1, activation=output_activation), \n",
    "                           weight_regularizer=wd, dropout_regularizer=dd)(x)\n",
    "    log_var = ConcreteDropout(Dense(1), weight_regularizer=wd, dropout_regularizer=dd)(x)\n",
    "    out = merge([mean, log_var], mode='concat')\n",
    "    model = Model(inp, out)\n",
    "    def heteroscedastic_loss(true, pred):\n",
    "        mean = pred[:, :1]\n",
    "        log_var = pred[:, 1:]\n",
    "        precision = K.exp(-log_var)\n",
    "        return K.sum(precision * (true - mean)**2. + log_var, -1)\n",
    "    model.compile(optimizer='adam', loss=heteroscedastic_loss)\n",
    "    hist = model.fit(X, Y, epochs=nb_epoch, batch_size=batch_size, verbose=verbose)\n",
    "    loss = hist.history['loss']\n",
    "    return model, loss  # return ELBO up to const.\n",
    "\n",
    "\n"
   ]
  },
  {
   "cell_type": "code",
   "execution_count": 131,
   "metadata": {},
   "outputs": [
    {
     "name": "stderr",
     "output_type": "stream",
     "text": [
      "/usr/local/lib/python2.7/dist-packages/ipykernel_launcher.py:22: UserWarning: The `merge` function is deprecated and will be removed after 08/2017. Use instead layers from `keras.layers.merge`, e.g. `add`, `concatenate`, etc.\n"
     ]
    },
    {
     "name": "stdout",
     "output_type": "stream",
     "text": [
      "Epoch 1/5\n",
      "8766/8766 [==============================] - 13s - loss: -4.1425    \n",
      "Epoch 2/5\n",
      "8766/8766 [==============================] - 12s - loss: -5.2661    \n",
      "Epoch 3/5\n",
      "8766/8766 [==============================] - 12s - loss: -6.3011    \n",
      "Epoch 4/5\n",
      "8766/8766 [==============================] - 12s - loss: -7.0581    \n",
      "Epoch 5/5\n",
      "8766/8766 [==============================] - 12s - loss: -7.4772    \n"
     ]
    }
   ],
   "source": [
    "x_mu = np.mean(X_train)\n",
    "x_std = np.std(X_train)\n",
    "X_train_norm = (X_train - x_mu) / x_std\n",
    "X_test_norm = (X_test - x_mu) / x_std\n",
    "\n",
    "scale_y = StandardScaler().fit(Y_train)\n",
    "Y_train_norm = scale_y.transform(Y_train)\n",
    "\n",
    "K.clear_session()\n",
    "model, loss = fit_concrete_climate(5, X_train_norm, Y_train_norm, output_activation='relu', \n",
    "                        verbose=1)\n",
    "Y_samples = np.array([model.predict(X_test)[:,0] for _ in range(Kmc)])\n",
    "Y_samples = scale_y.inverse_transform(Y_samples)\n",
    "Y_pred = Y_samples.mean(axis=0)"
   ]
  },
  {
   "cell_type": "code",
   "execution_count": 133,
   "metadata": {},
   "outputs": [
    {
     "data": {
      "image/png": "[encoded data removed]",
      "text/plain": [
       "<matplotlib.figure.Figure at 0x7f0ab0cdc210>"
      ]
     },
     "metadata": {},
     "output_type": "display_data"
    },
    {
     "data": {
      "image/png": "[encoded data removed]",
      "text/plain": [
       "<matplotlib.figure.Figure at 0x7f0ab0cd4190>"
      ]
     },
     "metadata": {},
     "output_type": "display_data"
    }
   ],
   "source": [
    "import seaborn as sns\n",
    "\n",
    "lw=0.1\n",
    "idxs = np.argsort(Y_test[:,0])\n",
    "\n",
    "for idx in idxs[::-1][:2]:\n",
    "    #plt.vlines(Y_pred[idx], 0, 0.001, color='blue', alpha=0.5)\n",
    "    grid = sns.kdeplot(Y_samples[:,idx], shade=True)\n",
    "    grid.axvline(Y_test[idx,0])\n",
    "    #grid.axvline(Y_pred[idx])\n",
    "    #plt.vlines(Y_test[idx,0], 0, 1, color='red', alpha=0.5)\n",
    "    plt.show()"
   ]
  },
  {
   "cell_type": "code",
   "execution_count": 112,
   "metadata": {},
   "outputs": [
    {
     "data": {
      "text/plain": [
       "array([ 67.26297804])"
      ]
     },
     "execution_count": 112,
     "metadata": {},
     "output_type": "execute_result"
    }
   ],
   "source": [
    "scale_y.var_"
   ]
  },
  {
   "cell_type": "code",
   "execution_count": null,
   "metadata": {
    "collapsed": true
   },
   "outputs": [],
   "source": []
  }
 ],
 "metadata": {
  "kernelspec": {
   "display_name": "Python 2",
   "language": "python",
   "name": "python2"
  },
  "language_info": {
   "codemirror_mode": {
    "name": "ipython",
    "version": 2
   },
   "file_extension": ".py",
   "mimetype": "text/x-python",
   "name": "python",
   "nbconvert_exporter": "python",
   "pygments_lexer": "ipython2",
   "version": "2.7.6"
  }
 },
 "nbformat": 4,
 "nbformat_minor": 1
}
